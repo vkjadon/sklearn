{
  "nbformat": 4,
  "nbformat_minor": 0,
  "metadata": {
    "colab": {
      "provenance": []
    },
    "kernelspec": {
      "name": "python3",
      "display_name": "Python 3"
    },
    "language_info": {
      "name": "python"
    }
  },
  "cells": [
    {
      "cell_type": "code",
      "execution_count": 2,
      "metadata": {
        "id": "UH2t2q8qjEQl"
      },
      "outputs": [],
      "source": [
        "import numpy as np\n",
        "import pandas as pd\n",
        "import matplotlib.pyplot as plt\n",
        "import seaborn as sns\n",
        "import sklearn"
      ]
    },
    {
      "cell_type": "code",
      "source": [
        "from sklearn.datasets import load_iris"
      ],
      "metadata": {
        "id": "7-M7y18vjpTf"
      },
      "execution_count": 3,
      "outputs": []
    },
    {
      "cell_type": "code",
      "source": [
        "data= load_iris()"
      ],
      "metadata": {
        "id": "-1A1_ewojqHU"
      },
      "execution_count": 6,
      "outputs": []
    },
    {
      "cell_type": "code",
      "source": [
        "data.feature_names"
      ],
      "metadata": {
        "colab": {
          "base_uri": "https://localhost:8080/",
          "height": 0
        },
        "id": "77QlYSOLjuL9",
        "outputId": "97b0dca5-5cd6-4805-9ee1-1df423fac5de"
      },
      "execution_count": 7,
      "outputs": [
        {
          "output_type": "execute_result",
          "data": {
            "text/plain": [
              "['sepal length (cm)',\n",
              " 'sepal width (cm)',\n",
              " 'petal length (cm)',\n",
              " 'petal width (cm)']"
            ]
          },
          "metadata": {},
          "execution_count": 7
        }
      ]
    },
    {
      "cell_type": "code",
      "source": [
        "X=data['feature_names']\n",
        "X"
      ],
      "metadata": {
        "colab": {
          "base_uri": "https://localhost:8080/",
          "height": 0
        },
        "id": "MY3Ey9-_jzCg",
        "outputId": "bca333eb-0061-4e60-99c5-af9176b8db84"
      },
      "execution_count": 8,
      "outputs": [
        {
          "output_type": "execute_result",
          "data": {
            "text/plain": [
              "['sepal length (cm)',\n",
              " 'sepal width (cm)',\n",
              " 'petal length (cm)',\n",
              " 'petal width (cm)']"
            ]
          },
          "metadata": {},
          "execution_count": 8
        }
      ]
    },
    {
      "cell_type": "code",
      "source": [
        "y=data.target\n",
        "y"
      ],
      "metadata": {
        "colab": {
          "base_uri": "https://localhost:8080/",
          "height": 0
        },
        "id": "v_MNezZZj5Km",
        "outputId": "a23f5221-3d5a-4569-fb0e-77b150ff742e"
      },
      "execution_count": 9,
      "outputs": [
        {
          "output_type": "execute_result",
          "data": {
            "text/plain": [
              "array([0, 0, 0, 0, 0, 0, 0, 0, 0, 0, 0, 0, 0, 0, 0, 0, 0, 0, 0, 0, 0, 0,\n",
              "       0, 0, 0, 0, 0, 0, 0, 0, 0, 0, 0, 0, 0, 0, 0, 0, 0, 0, 0, 0, 0, 0,\n",
              "       0, 0, 0, 0, 0, 0, 1, 1, 1, 1, 1, 1, 1, 1, 1, 1, 1, 1, 1, 1, 1, 1,\n",
              "       1, 1, 1, 1, 1, 1, 1, 1, 1, 1, 1, 1, 1, 1, 1, 1, 1, 1, 1, 1, 1, 1,\n",
              "       1, 1, 1, 1, 1, 1, 1, 1, 1, 1, 1, 1, 2, 2, 2, 2, 2, 2, 2, 2, 2, 2,\n",
              "       2, 2, 2, 2, 2, 2, 2, 2, 2, 2, 2, 2, 2, 2, 2, 2, 2, 2, 2, 2, 2, 2,\n",
              "       2, 2, 2, 2, 2, 2, 2, 2, 2, 2, 2, 2, 2, 2, 2, 2, 2, 2])"
            ]
          },
          "metadata": {},
          "execution_count": 9
        }
      ]
    },
    {
      "cell_type": "code",
      "source": [
        "data_X,data_y=load_iris(return_X_y= True)"
      ],
      "metadata": {
        "id": "ESiFqVRej96H"
      },
      "execution_count": 10,
      "outputs": []
    },
    {
      "cell_type": "code",
      "source": [
        "data_X.shape"
      ],
      "metadata": {
        "id": "ZZtCdf5pkROm"
      },
      "execution_count": null,
      "outputs": []
    },
    {
      "cell_type": "code",
      "source": [
        "data_y.shape"
      ],
      "metadata": {
        "colab": {
          "base_uri": "https://localhost:8080/",
          "height": 0
        },
        "id": "BS_OVm8GlATb",
        "outputId": "8cc9d264-24ef-43c2-8ea2-073508d5d0d4"
      },
      "execution_count": 13,
      "outputs": [
        {
          "output_type": "execute_result",
          "data": {
            "text/plain": [
              "(150,)"
            ]
          },
          "metadata": {},
          "execution_count": 13
        }
      ]
    },
    {
      "cell_type": "code",
      "source": [
        "from sklearn.model_selection import train_test_split"
      ],
      "metadata": {
        "id": "cJJKFzpPlDvM"
      },
      "execution_count": 11,
      "outputs": []
    },
    {
      "cell_type": "code",
      "source": [
        "data_X_train, data_X_test, data_y_train, data_y_test = train_test_split(data_X, data_y, test_size = 0.2, shuffle=False )"
      ],
      "metadata": {
        "id": "bGlzy-ymlHwV"
      },
      "execution_count": 14,
      "outputs": []
    },
    {
      "cell_type": "code",
      "source": [
        "from sklearn.metrics import confusion_matrix, classification_report, accuracy_score\n"
      ],
      "metadata": {
        "id": "fv3EWyZVlLpo"
      },
      "execution_count": 15,
      "outputs": []
    },
    {
      "cell_type": "code",
      "source": [
        "from sklearn.metrics import r2_score\n"
      ],
      "metadata": {
        "id": "XIuEuNholVPH"
      },
      "execution_count": 17,
      "outputs": []
    },
    {
      "cell_type": "code",
      "source": [
        "from sklearn.neighbors import KNeighborsClassifier\n",
        "knn = KNeighborsClassifier()\n",
        "knn.fit(data_X_train, data_y_train)\n",
        "y_pred_lr = knn.predict(data_X_test)\n",
        "print(accuracy_score(data_y_test, y_pred_lr))\n",
        "print(r2_score(data_y_test, y_pred_lr))"
      ],
      "metadata": {
        "colab": {
          "base_uri": "https://localhost:8080/",
          "height": 0
        },
        "id": "aH6cyrcylaH4",
        "outputId": "22ccd536-949c-4f8b-9a74-fc115d319305"
      },
      "execution_count": 18,
      "outputs": [
        {
          "output_type": "stream",
          "name": "stdout",
          "text": [
            "0.8\n",
            "0.0\n"
          ]
        }
      ]
    },
    {
      "cell_type": "code",
      "source": [
        "from sklearn.svm import SVC\n",
        "svm = SVC()\n",
        "svm.fit(data_X_train, data_y_train)\n",
        "y_pred_lr =svm.predict(data_X_test)\n",
        "print(accuracy_score(data_y_test, y_pred_lr))\n",
        "print(r2_score(data_y_test, y_pred_lr))"
      ],
      "metadata": {
        "colab": {
          "base_uri": "https://localhost:8080/",
          "height": 0
        },
        "id": "M99GVoYcleZA",
        "outputId": "3c991df1-e79a-49d0-858c-ab1beb9c6afd"
      },
      "execution_count": 19,
      "outputs": [
        {
          "output_type": "stream",
          "name": "stdout",
          "text": [
            "0.7\n",
            "0.0\n"
          ]
        }
      ]
    },
    {
      "cell_type": "code",
      "source": [
        "from sklearn.tree import DecisionTreeClassifier\n",
        "dtree = DecisionTreeClassifier()\n",
        "dtree.fit(data_X_train, data_y_train)\n",
        "y_pred_lr =dtree.predict(data_X_test)\n",
        "print(accuracy_score(data_y_test, y_pred_lr))\n",
        "print(r2_score(data_y_test, y_pred_lr))\n"
      ],
      "metadata": {
        "colab": {
          "base_uri": "https://localhost:8080/",
          "height": 0
        },
        "id": "MFzbGdZnliaX",
        "outputId": "2c17a9bb-dfb2-4f18-9d54-b75b10ebdc31"
      },
      "execution_count": 20,
      "outputs": [
        {
          "output_type": "stream",
          "name": "stdout",
          "text": [
            "0.8\n",
            "0.0\n"
          ]
        }
      ]
    },
    {
      "cell_type": "code",
      "source": [
        "from sklearn.ensemble import RandomForestClassifier\n",
        "rfm = RandomForestClassifier()\n",
        "rfm.fit(data_X_train, data_y_train)\n",
        "y_pred_lr =rfm.predict(data_X_test)\n",
        "print(accuracy_score(data_y_test, y_pred_lr))\n",
        "print(r2_score(data_y_test, y_pred_lr))"
      ],
      "metadata": {
        "colab": {
          "base_uri": "https://localhost:8080/",
          "height": 0
        },
        "id": "pMCiZrerl9zO",
        "outputId": "922a23f4-b863-45e7-9324-b8b56f3bff78"
      },
      "execution_count": 21,
      "outputs": [
        {
          "output_type": "stream",
          "name": "stdout",
          "text": [
            "0.7333333333333333\n",
            "0.0\n"
          ]
        }
      ]
    },
    {
      "cell_type": "code",
      "source": [
        "from sklearn.naive_bayes import GaussianNB\n",
        "nb = GaussianNB()\n",
        "nb.fit(data_X_train, data_y_train)\n",
        "y_pred_lr =nb.predict(data_X_test)\n",
        "print(accuracy_score(data_y_test, y_pred_lr))\n",
        "print(r2_score(data_y_test, y_pred_lr))"
      ],
      "metadata": {
        "colab": {
          "base_uri": "https://localhost:8080/",
          "height": 0
        },
        "id": "TA8R50lSmBoi",
        "outputId": "94f42481-1f85-4893-8e6f-17d87f097063"
      },
      "execution_count": 22,
      "outputs": [
        {
          "output_type": "stream",
          "name": "stdout",
          "text": [
            "0.9333333333333333\n",
            "0.0\n"
          ]
        }
      ]
    },
    {
      "cell_type": "code",
      "source": [
        "#from sklearn.datasets import load_iris\n",
        "#data= load_iris()\n",
        "#data.feature_names\n",
        "#X=data['feature_names']\n",
        "#y=data.target\n",
        "#data_X,data_y=load_iris(return_X_y= True)\n",
        "#from sklearn.model_selection import train_test_split\n",
        "#from sklearn.metrics import confusion_matrix, classification_report, accuracy_score\n",
        "#from sklearn.tree import DecisionTreeClassifier\n",
        "#from sklearn.ensemble import RandomForestClassifier\n",
        "#from sklearn.naive_bayes import GaussianNB"
      ],
      "metadata": {
        "id": "YaPjSxxbmQ30"
      },
      "execution_count": null,
      "outputs": []
    }
  ]
}