{
  "nbformat": 4,
  "nbformat_minor": 0,
  "metadata": {
    "colab": {
      "provenance": [],
      "authorship_tag": "ABX9TyMIhyOk7iPYhHZfnm++smaE",
      "include_colab_link": true
    },
    "kernelspec": {
      "name": "python3",
      "display_name": "Python 3"
    },
    "language_info": {
      "name": "python"
    }
  },
  "cells": [
    {
      "cell_type": "markdown",
      "metadata": {
        "id": "view-in-github",
        "colab_type": "text"
      },
      "source": [
        "<a href=\"https://colab.research.google.com/github/vkjadon/sklearn/blob/main/01sklearn.ipynb\" target=\"_parent\"><img src=\"https://colab.research.google.com/assets/colab-badge.svg\" alt=\"Open In Colab\"/></a>"
      ]
    },
    {
      "cell_type": "code",
      "source": [
        "import numpy as np\n",
        "from matplotlib import pyplot as plt\n",
        "plt.rcParams['figure.figsize']=(14,6)"
      ],
      "metadata": {
        "id": "8MuH70NfixCl"
      },
      "execution_count": 2,
      "outputs": []
    },
    {
      "cell_type": "code",
      "execution_count": 3,
      "metadata": {
        "id": "BjTD0P-SipcL"
      },
      "outputs": [],
      "source": [
        "from sklearn import linear_model\n",
        "X=np.array([[100],[150],[200],[250],[500], [1000],[2500],[5000]])\n",
        "# X=np.array([[1],[1],[2],[2],[3], [4],[4],[5]])\n",
        "y=np.array([20,28, 39, 51, 75, 130, 210, 400])"
      ]
    },
    {
      "cell_type": "code",
      "source": [],
      "metadata": {
        "id": "lj_KdyyRizlB"
      },
      "execution_count": null,
      "outputs": []
    }
  ]
}