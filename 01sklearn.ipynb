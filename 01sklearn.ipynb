{
  "nbformat": 4,
  "nbformat_minor": 0,
  "metadata": {
    "colab": {
      "provenance": [],
      "authorship_tag": "ABX9TyPr0vId+oAFJmIyZ61GfYHf",
      "include_colab_link": true
    },
    "kernelspec": {
      "name": "python3",
      "display_name": "Python 3"
    },
    "language_info": {
      "name": "python"
    }
  },
  "cells": [
    {
      "cell_type": "markdown",
      "metadata": {
        "id": "view-in-github",
        "colab_type": "text"
      },
      "source": [
        "<a href=\"https://colab.research.google.com/github/vkjadon/sklearn/blob/main/01sklearn.ipynb\" target=\"_parent\"><img src=\"https://colab.research.google.com/assets/colab-badge.svg\" alt=\"Open In Colab\"/></a>"
      ]
    },
    {
      "cell_type": "code",
      "source": [
        "import numpy as np"
      ],
      "metadata": {
        "id": "8MuH70NfixCl"
      },
      "execution_count": null,
      "outputs": []
    },
    {
      "cell_type": "code",
      "execution_count": null,
      "metadata": {
        "id": "BjTD0P-SipcL"
      },
      "outputs": [],
      "source": [
        "from sklearn import linear_model"
      ]
    },
    {
      "cell_type": "code",
      "source": [
        "#X=np.array([[100],[150],[200],[250],[500], [1000],[2500],[5000]])\n",
        "X=np.array([[100, 1],[150, 1],[200, 2],[250, 2],[500, 3], [1000, 4],[2500, 4],[5000, 5]])\n",
        "y=np.array([20,28, 39, 51, 75, 130, 210, 400])"
      ],
      "metadata": {
        "id": "sOql6N_bCpmz"
      },
      "execution_count": null,
      "outputs": []
    },
    {
      "cell_type": "code",
      "source": [
        "print(X)"
      ],
      "metadata": {
        "id": "5LJe3MyMC_Vz"
      },
      "execution_count": null,
      "outputs": []
    },
    {
      "cell_type": "code",
      "source": [
        "print(y)"
      ],
      "metadata": {
        "id": "PJs2a8xMDIRX",
        "outputId": "e2e8b3c3-4a96-4ac2-dbb7-2665933a5cd1",
        "colab": {
          "base_uri": "https://localhost:8080/"
        }
      },
      "execution_count": null,
      "outputs": [
        {
          "output_type": "stream",
          "name": "stdout",
          "text": [
            "[ 20  28  39  51  75 130 210 400]\n"
          ]
        }
      ]
    },
    {
      "cell_type": "code",
      "source": [
        "print(X.shape, type(X), y.shape, type(y))\n",
        "# print(X, y)"
      ],
      "metadata": {
        "id": "lj_KdyyRizlB",
        "colab": {
          "base_uri": "https://localhost:8080/"
        },
        "outputId": "f6ee19c1-c011-46cf-b7cc-4e33aa1cab15"
      },
      "execution_count": null,
      "outputs": [
        {
          "output_type": "stream",
          "name": "stdout",
          "text": [
            "(8, 2) <class 'numpy.ndarray'> (8,) <class 'numpy.ndarray'>\n"
          ]
        }
      ]
    },
    {
      "cell_type": "code",
      "source": [
        "# Create a Logistic Regression Object, perform Logistic Regression\n",
        "lr = linear_model.LinearRegression()\n",
        "lr.fit(X, y)\n",
        "print(lr.coef_)\n",
        "print(lr.intercept_)"
      ],
      "metadata": {
        "id": "lmumnOhBjkeK"
      },
      "execution_count": null,
      "outputs": []
    },
    {
      "cell_type": "markdown",
      "source": [
        "## Importing Dataset\n",
        "\n",
        "[Toy SciKit-Learn Dataset](https://scikit-learn.org/stable/datasets/toy_dataset.html)"
      ],
      "metadata": {
        "id": "Mdwy_pvtk-Zv"
      }
    },
    {
      "cell_type": "code",
      "source": [
        "from sklearn import datasets"
      ],
      "metadata": {
        "id": "KzeZO2lslFSg"
      },
      "execution_count": null,
      "outputs": []
    },
    {
      "cell_type": "code",
      "source": [
        "dir(datasets)"
      ],
      "metadata": {
        "id": "qXHlr1uLltF-"
      },
      "execution_count": null,
      "outputs": []
    },
    {
      "cell_type": "markdown",
      "source": [
        " [Syntax of load dataset](https://scikit-learn.org/stable/modules/generated/sklearn.datasets.load_diabetes.html)"
      ],
      "metadata": {
        "id": "_UvvCOUimyfg"
      }
    },
    {
      "cell_type": "code",
      "source": [
        "# Load the diabetes dataset\n",
        "diabetes = datasets.load_diabetes()\n",
        "diabetes_X, y = datasets.load_diabetes(return_X_y=True)"
      ],
      "metadata": {
        "id": "CvSzeGn1lk_k"
      },
      "execution_count": null,
      "outputs": []
    },
    {
      "cell_type": "code",
      "source": [
        "print(diabetes)"
      ],
      "metadata": {
        "id": "sD8sahvBJQAL"
      },
      "execution_count": null,
      "outputs": []
    },
    {
      "cell_type": "code",
      "source": [
        "print(diabetes.feature_names)"
      ],
      "metadata": {
        "id": "rP6ezy0_ph5y"
      },
      "execution_count": null,
      "outputs": []
    },
    {
      "cell_type": "code",
      "source": [
        "print(diabetes.target)"
      ],
      "metadata": {
        "id": "RPpx9dRpqp5Y"
      },
      "execution_count": null,
      "outputs": []
    },
    {
      "cell_type": "code",
      "source": [
        "print(diabetes.DESCR)"
      ],
      "metadata": {
        "id": "-be5XSksrwhs"
      },
      "execution_count": null,
      "outputs": []
    },
    {
      "cell_type": "code",
      "source": [
        "print(diabetes_X.shape)\n",
        "print(type(diabetes_X))\n",
        "print(y.shape)"
      ],
      "metadata": {
        "colab": {
          "base_uri": "https://localhost:8080/"
        },
        "id": "cjZSTxoRnhFT",
        "outputId": "d4ae0e9f-3337-438b-942d-ab6f5b03dd88"
      },
      "execution_count": null,
      "outputs": [
        {
          "output_type": "stream",
          "name": "stdout",
          "text": [
            "(442, 10)\n",
            "<class 'numpy.ndarray'>\n",
            "(442,)\n"
          ]
        }
      ]
    },
    {
      "cell_type": "code",
      "source": [
        "# Using the jth feature\n",
        "j=[1,2,3,4]\n",
        "X = diabetes_X[:, j] # All Rows of jth column\n",
        "X=X.reshape(diabetes_X.shape[0],len(j)) # To restrict to only desired columns list `j`\n",
        "print(X.shape)\n",
        "# print(type(X))\n",
        "print(X)\n"
      ],
      "metadata": {
        "id": "BSm_ftcHnxFP"
      },
      "execution_count": null,
      "outputs": []
    },
    {
      "cell_type": "code",
      "source": [
        "# Using all the features\n",
        "X = diabetes_X\n",
        "print(X.shape)\n",
        "#print(type(X))\n",
        "#print(X)"
      ],
      "metadata": {
        "id": "6RoTuWIJoX2j"
      },
      "execution_count": null,
      "outputs": []
    },
    {
      "cell_type": "code",
      "source": [
        "print(y)"
      ],
      "metadata": {
        "id": "kI1BDNYLpKpf"
      },
      "execution_count": null,
      "outputs": []
    },
    {
      "cell_type": "code",
      "source": [
        "# Create linear regression object\n",
        "lr = linear_model.LinearRegression()\n",
        "\n",
        "# Train the model using the training sets\n",
        "lr.fit(X, y)\n",
        "\n",
        "# The coefficients\n",
        "w_skl=lr.coef_.reshape(X.shape[1],1)\n",
        "b_skl=lr.intercept_\n",
        "print(\"Coefficients: \\n\", w_skl)\n",
        "print(\"Intercept: \\n\", b_skl)"
      ],
      "metadata": {
        "id": "2INJSMq2ocsy"
      },
      "execution_count": null,
      "outputs": []
    },
    {
      "cell_type": "code",
      "source": [
        "import sklearn\n",
        "dir(sklearn)"
      ],
      "metadata": {
        "id": "-zeNeYOXdXiF"
      },
      "execution_count": null,
      "outputs": []
    },
    {
      "cell_type": "markdown",
      "source": [
        "https://scikit-learn.org/stable/datasets.html#datasets"
      ],
      "metadata": {
        "id": "mEhqcz9dfNDH"
      }
    },
    {
      "cell_type": "code",
      "source": [
        "from sklearn.datasets import fetch_openml"
      ],
      "metadata": {
        "id": "MflkkKlTkl8p"
      },
      "execution_count": null,
      "outputs": []
    },
    {
      "cell_type": "code",
      "source": [
        "X, y = fetch_openml(\"titanic\", version=9, as_frame=True, return_X_y=True)"
      ],
      "metadata": {
        "id": "SlTP70qtkoCu"
      },
      "execution_count": null,
      "outputs": []
    },
    {
      "cell_type": "code",
      "source": [
        "print(X)"
      ],
      "metadata": {
        "id": "uxyBLJ5Rks6J"
      },
      "execution_count": null,
      "outputs": []
    },
    {
      "cell_type": "markdown",
      "source": [
        "https://scikit-learn.org/stable/datasets/loading_other_datasets.html"
      ],
      "metadata": {
        "id": "6cCmSWFhmjbX"
      }
    },
    {
      "cell_type": "code",
      "source": [
        "from sklearn.datasets import fetch_openml\n",
        "mice = fetch_openml(name='miceprotein', version=4)"
      ],
      "metadata": {
        "id": "kxPUpMmlmj6s"
      },
      "execution_count": null,
      "outputs": []
    },
    {
      "cell_type": "code",
      "source": [
        "print(mice)"
      ],
      "metadata": {
        "id": "JH9UKBQ5HQaN"
      },
      "execution_count": null,
      "outputs": []
    },
    {
      "cell_type": "code",
      "source": [
        "print(mice.data.shape)\n",
        "print(mice.target.shape)"
      ],
      "metadata": {
        "id": "8izoREkom64Q",
        "outputId": "943b9dd9-022e-4973-d257-1cda87a1554b",
        "colab": {
          "base_uri": "https://localhost:8080/"
        }
      },
      "execution_count": null,
      "outputs": [
        {
          "output_type": "stream",
          "name": "stdout",
          "text": [
            "(1080, 77)\n",
            "(1080,)\n"
          ]
        }
      ]
    },
    {
      "cell_type": "code",
      "source": [
        "print(mice.DESCR)"
      ],
      "metadata": {
        "id": "l5Je88KZnMJ5"
      },
      "execution_count": null,
      "outputs": []
    },
    {
      "cell_type": "code",
      "source": [
        "print(mice.details)"
      ],
      "metadata": {
        "id": "9koFye6znTFg"
      },
      "execution_count": null,
      "outputs": []
    },
    {
      "cell_type": "code",
      "source": [
        "iris = fetch_openml(name=\"iris\")\n",
        "print(iris.details['version'])\n",
        "print(iris.details['id'])"
      ],
      "metadata": {
        "id": "2ByYxdgHnyvx",
        "outputId": "79e67c84-41d9-46aa-e1a7-ff5a79fc4770",
        "colab": {
          "base_uri": "https://localhost:8080/"
        }
      },
      "execution_count": null,
      "outputs": [
        {
          "output_type": "stream",
          "name": "stdout",
          "text": [
            "1\n",
            "61\n"
          ]
        }
      ]
    },
    {
      "cell_type": "code",
      "source": [
        "iris_61 = fetch_openml(data_id=61)\n",
        "print(iris_61.details['version'])\n",
        "print(iris_61.details['id'])"
      ],
      "metadata": {
        "id": "pBFxjxBJoJJr",
        "outputId": "1f08a097-a7f2-4603-e55a-8ffd2a5f49b2",
        "colab": {
          "base_uri": "https://localhost:8080/"
        }
      },
      "execution_count": null,
      "outputs": [
        {
          "output_type": "stream",
          "name": "stdout",
          "text": [
            "1\n",
            "61\n"
          ]
        }
      ]
    },
    {
      "cell_type": "code",
      "source": [
        "iris_969 = fetch_openml(data_id=969)\n",
        "print(iris_969.details['version'])\n",
        "print(iris_969.details['id'])"
      ],
      "metadata": {
        "id": "_ztmRq-ooMA2",
        "outputId": "451b2cc0-1b66-43ec-ca27-266027c4d8c5",
        "colab": {
          "base_uri": "https://localhost:8080/"
        }
      },
      "execution_count": null,
      "outputs": [
        {
          "output_type": "stream",
          "name": "stdout",
          "text": [
            "3\n",
            "969\n"
          ]
        }
      ]
    },
    {
      "cell_type": "markdown",
      "source": [
        "## Data Generation"
      ],
      "metadata": {
        "id": "1Y4cY-MRn0eH"
      }
    },
    {
      "cell_type": "code",
      "source": [
        "from sklearn.datasets import make_classification"
      ],
      "metadata": {
        "id": "EkckLc-roL7b"
      },
      "execution_count": 1,
      "outputs": []
    },
    {
      "cell_type": "code",
      "source": [
        "# Generate dataset for Logistic Regression\n",
        "dataset_X_orig, dataset_y_orig = make_classification(n_samples=10000,n_features=1, n_informative=1, n_redundant=0,n_classes=2, n_clusters_per_class=1,)\n",
        "#print(dataset_X_orig.shape)\n",
        "#print(dataset_x_orig[:,0])"
      ],
      "metadata": {
        "id": "8s7MQhYwn_uy"
      },
      "execution_count": 7,
      "outputs": []
    },
    {
      "cell_type": "code",
      "source": [
        "import matplotlib.pyplot as plt"
      ],
      "metadata": {
        "id": "t6J-vSrQoOa7"
      },
      "execution_count": 4,
      "outputs": []
    },
    {
      "cell_type": "code",
      "source": [
        "plt.scatter(dataset_X_orig[:,0], dataset_y_orig, c=dataset_y_orig, cmap='rainbow')\n",
        "plt.title('Scatter Plot of Logistic Regression Data')\n",
        "plt.show()"
      ],
      "metadata": {
        "id": "Zj0SE0_0oEQ4",
        "outputId": "39ed5d59-ff4e-4eec-dc60-9b3382ec5b99",
        "colab": {
          "base_uri": "https://localhost:8080/",
          "height": 281
        }
      },
      "execution_count": 6,
      "outputs": [
        {
          "output_type": "display_data",
          "data": {
            "text/plain": [
              "<Figure size 432x288 with 1 Axes>"
            ],
            "image/png": "[encoded data removed]"
          },
          "metadata": {
            "needs_background": "light"
          }
        }
      ]
    },
    {
      "cell_type": "markdown",
      "source": [],
      "metadata": {
        "id": "OwrSlpzisVzL"
      }
    }
  ]
}