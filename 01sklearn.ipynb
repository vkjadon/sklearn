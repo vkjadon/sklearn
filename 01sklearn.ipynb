{
  "nbformat": 4,
  "nbformat_minor": 0,
  "metadata": {
    "colab": {
      "provenance": [],
      "authorship_tag": "ABX9TyNVhAcI+zi/4hLbic53+upC",
      "include_colab_link": true
    },
    "kernelspec": {
      "name": "python3",
      "display_name": "Python 3"
    },
    "language_info": {
      "name": "python"
    }
  },
  "cells": [
    {
      "cell_type": "markdown",
      "metadata": {
        "id": "view-in-github",
        "colab_type": "text"
      },
      "source": [
        "<a href=\"https://colab.research.google.com/github/vkjadon/sklearn/blob/main/01sklearn.ipynb\" target=\"_parent\"><img src=\"https://colab.research.google.com/assets/colab-badge.svg\" alt=\"Open In Colab\"/></a>"
      ]
    },
    {
      "cell_type": "code",
      "source": [
        "import numpy as np"
      ],
      "metadata": {
        "id": "8MuH70NfixCl"
      },
      "execution_count": 2,
      "outputs": []
    },
    {
      "cell_type": "code",
      "execution_count": 9,
      "metadata": {
        "id": "BjTD0P-SipcL"
      },
      "outputs": [],
      "source": [
        "from sklearn import linear_model\n",
        "X=np.array([[100],[150],[200],[250],[500], [1000],[2500],[5000]])\n",
        "#X=np.array([[100, 1],[150, 1],[200, 2],[250, 2],[500, 3], [1000, 4],[2500, 4],[5000, 5]])\n",
        "y=np.array([20,28, 39, 51, 75, 130, 210, 400])"
      ]
    },
    {
      "cell_type": "code",
      "source": [
        "print(X.shape, type(X), y.shape, type(y))\n",
        "# print(X, y)"
      ],
      "metadata": {
        "id": "lj_KdyyRizlB",
        "outputId": "7000492f-0c56-4ea5-d73c-10554728bdfa",
        "colab": {
          "base_uri": "https://localhost:8080/"
        }
      },
      "execution_count": 7,
      "outputs": [
        {
          "output_type": "stream",
          "name": "stdout",
          "text": [
            "(8, 2) <class 'numpy.ndarray'> (8,) <class 'numpy.ndarray'>\n"
          ]
        }
      ]
    },
    {
      "cell_type": "code",
      "source": [
        "# Create a Logistic Regression Object, perform Logistic Regression\n",
        "lr = linear_model.LinearRegression()\n",
        "lr.fit(X, y)\n",
        "print(lr.coef_)\n",
        "print(lr.intercept_)"
      ],
      "metadata": {
        "id": "lmumnOhBjkeK",
        "outputId": "5f1ee332-2550-4642-b6c7-1e4ba3ec81c4",
        "colab": {
          "base_uri": "https://localhost:8080/"
        }
      },
      "execution_count": 8,
      "outputs": [
        {
          "output_type": "stream",
          "name": "stdout",
          "text": [
            "[ 0.06429476 14.80232017]\n",
            "0.46122252435984024\n"
          ]
        }
      ]
    }
  ]
}