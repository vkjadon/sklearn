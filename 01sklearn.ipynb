{
  "nbformat": 4,
  "nbformat_minor": 0,
  "metadata": {
    "colab": {
      "provenance": [],
      "authorship_tag": "ABX9TyPZNG1+2dnX8qnNxhGtyhAi",
      "include_colab_link": true
    },
    "kernelspec": {
      "name": "python3",
      "display_name": "Python 3"
    },
    "language_info": {
      "name": "python"
    }
  },
  "cells": [
    {
      "cell_type": "markdown",
      "metadata": {
        "id": "view-in-github",
        "colab_type": "text"
      },
      "source": [
        "<a href=\"https://colab.research.google.com/github/vkjadon/sklearn/blob/main/01sklearn.ipynb\" target=\"_parent\"><img src=\"https://colab.research.google.com/assets/colab-badge.svg\" alt=\"Open In Colab\"/></a>"
      ]
    },
    {
      "cell_type": "code",
      "source": [
        "import numpy as np"
      ],
      "metadata": {
        "id": "8MuH70NfixCl"
      },
      "execution_count": 2,
      "outputs": []
    },
    {
      "cell_type": "code",
      "execution_count": 9,
      "metadata": {
        "id": "BjTD0P-SipcL"
      },
      "outputs": [],
      "source": [
        "from sklearn import linear_model\n",
        "X=np.array([[100],[150],[200],[250],[500], [1000],[2500],[5000]])\n",
        "#X=np.array([[100, 1],[150, 1],[200, 2],[250, 2],[500, 3], [1000, 4],[2500, 4],[5000, 5]])\n",
        "y=np.array([20,28, 39, 51, 75, 130, 210, 400])"
      ]
    },
    {
      "cell_type": "code",
      "source": [
        "print(X.shape, type(X), y.shape, type(y))\n",
        "# print(X, y)"
      ],
      "metadata": {
        "id": "lj_KdyyRizlB",
        "colab": {
          "base_uri": "https://localhost:8080/"
        },
        "outputId": "7000492f-0c56-4ea5-d73c-10554728bdfa"
      },
      "execution_count": 7,
      "outputs": [
        {
          "output_type": "stream",
          "name": "stdout",
          "text": [
            "(8, 2) <class 'numpy.ndarray'> (8,) <class 'numpy.ndarray'>\n"
          ]
        }
      ]
    },
    {
      "cell_type": "code",
      "source": [
        "# Create a Logistic Regression Object, perform Logistic Regression\n",
        "lr = linear_model.LinearRegression()\n",
        "lr.fit(X, y)\n",
        "print(lr.coef_)\n",
        "print(lr.intercept_)"
      ],
      "metadata": {
        "colab": {
          "base_uri": "https://localhost:8080/"
        },
        "id": "lmumnOhBjkeK",
        "outputId": "5f1ee332-2550-4642-b6c7-1e4ba3ec81c4"
      },
      "execution_count": 8,
      "outputs": [
        {
          "output_type": "stream",
          "name": "stdout",
          "text": [
            "[ 0.06429476 14.80232017]\n",
            "0.46122252435984024\n"
          ]
        }
      ]
    },
    {
      "cell_type": "markdown",
      "source": [
        "## Importing Dataset\n",
        "\n",
        "[Toy SciKit-Learn Dataset](https://scikit-learn.org/stable/datasets/toy_dataset.html)"
      ],
      "metadata": {
        "id": "Mdwy_pvtk-Zv"
      }
    },
    {
      "cell_type": "code",
      "source": [
        "from sklearn import datasets"
      ],
      "metadata": {
        "id": "KzeZO2lslFSg"
      },
      "execution_count": 10,
      "outputs": []
    },
    {
      "cell_type": "code",
      "source": [
        "dir(datasets)"
      ],
      "metadata": {
        "id": "qXHlr1uLltF-"
      },
      "execution_count": null,
      "outputs": []
    },
    {
      "cell_type": "markdown",
      "source": [
        " [Syntax of load dataset](https://scikit-learn.org/stable/modules/generated/sklearn.datasets.load_diabetes.html)"
      ],
      "metadata": {
        "id": "_UvvCOUimyfg"
      }
    },
    {
      "cell_type": "code",
      "source": [
        "# Load the diabetes dataset\n",
        "diabetes_X, y = datasets.load_diabetes(return_X_y=True)"
      ],
      "metadata": {
        "id": "CvSzeGn1lk_k"
      },
      "execution_count": 13,
      "outputs": []
    },
    {
      "cell_type": "code",
      "source": [
        "print(diabetes_X.shape)\n",
        "print(type(diabetes_X))\n",
        "print(y.shape)"
      ],
      "metadata": {
        "id": "cjZSTxoRnhFT",
        "outputId": "7845d6e7-7802-4f44-9325-8efd709a3399",
        "colab": {
          "base_uri": "https://localhost:8080/"
        }
      },
      "execution_count": 14,
      "outputs": [
        {
          "output_type": "stream",
          "name": "stdout",
          "text": [
            "(442, 10)\n",
            "<class 'numpy.ndarray'>\n",
            "(442,)\n"
          ]
        }
      ]
    },
    {
      "cell_type": "code",
      "source": [
        "# Using the jth feature\n",
        "j=[1,2,3,4]\n",
        "X = diabetes_X[:, j] # All Rows of jth column\n",
        "X=X.reshape(diabetes_X.shape[0],len(j)) # To restrict to only desired columns list `j`\n",
        "print(X.shape)\n",
        "# print(type(X))\n",
        "print(X)\n"
      ],
      "metadata": {
        "id": "BSm_ftcHnxFP",
        "outputId": "356a2431-f6ef-4988-92df-368e84645b2b",
        "colab": {
          "base_uri": "https://localhost:8080/"
        }
      },
      "execution_count": 20,
      "outputs": [
        {
          "output_type": "stream",
          "name": "stdout",
          "text": [
            "(442, 4)\n",
            "[[ 0.05068012  0.06169621  0.02187235 -0.0442235 ]\n",
            " [-0.04464164 -0.05147406 -0.02632783 -0.00844872]\n",
            " [ 0.05068012  0.04445121 -0.00567061 -0.04559945]\n",
            " ...\n",
            " [ 0.05068012 -0.01590626  0.01728186 -0.03734373]\n",
            " [-0.04464164  0.03906215  0.00121513  0.01631843]\n",
            " [-0.04464164 -0.0730303  -0.08141377  0.08374012]]\n"
          ]
        }
      ]
    },
    {
      "cell_type": "code",
      "source": [
        "# Using all the features\n",
        "X = diabetes_X\n",
        "print(X.shape)\n",
        "#print(type(X))\n",
        "#print(X)"
      ],
      "metadata": {
        "id": "6RoTuWIJoX2j",
        "outputId": "b9fbbc89-ff08-45db-ae1b-f4dd412d8167",
        "colab": {
          "base_uri": "https://localhost:8080/"
        }
      },
      "execution_count": 21,
      "outputs": [
        {
          "output_type": "stream",
          "name": "stdout",
          "text": [
            "(442, 10)\n"
          ]
        }
      ]
    },
    {
      "cell_type": "code",
      "source": [
        "# Create linear regression object\n",
        "lr = linear_model.LinearRegression()\n",
        "\n",
        "# Train the model using the training sets\n",
        "lr.fit(X, y)\n",
        "\n",
        "# The coefficients\n",
        "w_skl=lr.coef_.reshape(X.shape[1],1)\n",
        "b_skl=lr.intercept_\n",
        "print(\"Coefficients: \\n\", w_skl)\n",
        "print(\"Intercept: \\n\", b_skl)"
      ],
      "metadata": {
        "id": "2INJSMq2ocsy",
        "outputId": "3e6963d3-5773-4655-b90a-d1a1903d21e3",
        "colab": {
          "base_uri": "https://localhost:8080/"
        }
      },
      "execution_count": 22,
      "outputs": [
        {
          "output_type": "stream",
          "name": "stdout",
          "text": [
            "Coefficients: \n",
            " [[ -10.01219782]\n",
            " [-239.81908937]\n",
            " [ 519.83978679]\n",
            " [ 324.39042769]\n",
            " [-792.18416163]\n",
            " [ 476.74583782]\n",
            " [ 101.04457032]\n",
            " [ 177.06417623]\n",
            " [ 751.27932109]\n",
            " [  67.62538639]]\n",
            "Intercept: \n",
            " 152.1334841628965\n"
          ]
        }
      ]
    }
  ]
}