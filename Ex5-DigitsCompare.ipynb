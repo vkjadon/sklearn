{
  "nbformat": 4,
  "nbformat_minor": 0,
  "metadata": {
    "colab": {
      "provenance": [],
      "authorship_tag": "ABX9TyOGSFPucIV1zlq4YEI4bnCS",
      "include_colab_link": true
    },
    "kernelspec": {
      "name": "python3",
      "display_name": "Python 3"
    },
    "language_info": {
      "name": "python"
    }
  },
  "cells": [
    {
      "cell_type": "markdown",
      "metadata": {
        "id": "view-in-github",
        "colab_type": "text"
      },
      "source": [
        "<a href=\"https://colab.research.google.com/github/vkjadon/sklearn/blob/main/Ex5-DigitsCompare.ipynb\" target=\"_parent\"><img src=\"https://colab.research.google.com/assets/colab-badge.svg\" alt=\"Open In Colab\"/></a>"
      ]
    },
    {
      "cell_type": "code",
      "source": [
        "from sklearn import datasets, metrics\n",
        "from sklearn.model_selection import train_test_split\n",
        "import matplotlib.pyplot as plt\n",
        "import numpy as np\n",
        "import time"
      ],
      "metadata": {
        "id": "jCk8LqkjpL4T"
      },
      "execution_count": 1,
      "outputs": []
    },
    {
      "cell_type": "code",
      "source": [
        "# The digits dataset\n",
        "digits = datasets.load_digits()\n",
        "n_samples = len(digits.images)\n",
        "data = digits.images.reshape((n_samples, -1))"
      ],
      "metadata": {
        "id": "mjix2S4LpOqW"
      },
      "execution_count": 2,
      "outputs": []
    },
    {
      "cell_type": "code",
      "source": [
        "# Split into train and test subsets (50% each)\n",
        "XA, XB, yA, yB = train_test_split(\n",
        "    data, digits.target, test_size=0.5, shuffle=False)\n",
        "print(XA.shape)"
      ],
      "metadata": {
        "id": "o9H6AWYjpQzd",
        "outputId": "551f022e-a474-40b3-e078-1e46b9df84ce",
        "colab": {
          "base_uri": "https://localhost:8080/"
        }
      },
      "execution_count": 3,
      "outputs": [
        {
          "output_type": "stream",
          "name": "stdout",
          "text": [
            "(898, 64)\n"
          ]
        }
      ]
    },
    {
      "cell_type": "code",
      "source": [
        "# Logistic Regression\n",
        "from sklearn.linear_model import LogisticRegression\n",
        "lr = LogisticRegression(solver='lbfgs',multi_class='auto',max_iter=2000)\n",
        "lr.fit(XA,yA)"
      ],
      "metadata": {
        "id": "DMftpO2ppS6G",
        "outputId": "af238dd7-cfa8-4c2d-9a1a-8da5f8532c34",
        "colab": {
          "base_uri": "https://localhost:8080/"
        }
      },
      "execution_count": 4,
      "outputs": [
        {
          "output_type": "execute_result",
          "data": {
            "text/plain": [
              "LogisticRegression(max_iter=2000)"
            ]
          },
          "metadata": {},
          "execution_count": 4
        }
      ]
    },
    {
      "cell_type": "code",
      "source": [
        "n = np.random.randint(int(n_samples/2),n_samples)\n",
        "Xt = digits.data[n:n+1]\n",
        "plt.imshow(digits.images[n], cmap=plt.cm.gray_r, interpolation='nearest')\n",
        "plt.show()\n",
        "yt = lr.predict(Xt)\n",
        "print(' predicts: ' + str(yt[0]))\n",
        "print('Label: ' + str(digits.target[n:n+1][0]))"
      ],
      "metadata": {
        "id": "g6I9De9Or6Hz",
        "outputId": "3546ce5d-ce06-4622-f19d-dafb6d5216c5",
        "colab": {
          "base_uri": "https://localhost:8080/",
          "height": 301
        }
      },
      "execution_count": 5,
      "outputs": [
        {
          "output_type": "display_data",
          "data": {
            "text/plain": [
              "<Figure size 432x288 with 1 Axes>"
            ],
            "image/png": "[encoded data removed]"
          },
          "metadata": {
            "needs_background": "light"
          }
        },
        {
          "output_type": "stream",
          "name": "stdout",
          "text": [
            " predicts: 1\n",
            "Label: 1\n"
          ]
        }
      ]
    },
    {
      "cell_type": "code",
      "source": [
        "# K-Nearest Neighbors\n",
        "from sklearn.neighbors import KNeighborsClassifier\n",
        "knn = KNeighborsClassifier(n_neighbors=10)"
      ],
      "metadata": {
        "id": "LN0t-ISNpgZD"
      },
      "execution_count": 6,
      "outputs": []
    },
    {
      "cell_type": "code",
      "source": [
        "# Support Vector Classifier\n",
        "from sklearn.svm import SVC\n",
        "svm = SVC(gamma='scale', C=1.0, random_state=101)"
      ],
      "metadata": {
        "id": "Hv2J1Mhgpopy"
      },
      "execution_count": null,
      "outputs": []
    },
    {
      "cell_type": "code",
      "source": [
        "# Decision Tree\n",
        "from sklearn.tree import DecisionTreeClassifier\n",
        "dtree = DecisionTreeClassifier(max_depth=10,random_state=101,\\\n",
        "                               max_features=None,min_samples_leaf=5)"
      ],
      "metadata": {
        "id": "3ZDGyT0Spi1I"
      },
      "execution_count": null,
      "outputs": []
    },
    {
      "cell_type": "code",
      "source": [
        "# Random Forest\n",
        "from sklearn.ensemble import RandomForestClassifier\n",
        "rfm = RandomForestClassifier(n_estimators=70,oob_score=True,n_jobs=1,\\\n",
        "                  random_state=101,max_features=None,min_samples_leaf=3)"
      ],
      "metadata": {
        "id": "dN7nojzTpmt5"
      },
      "execution_count": null,
      "outputs": []
    },
    {
      "cell_type": "code",
      "source": [
        "# Naïve Bayes\n",
        "from sklearn.naive_bayes import GaussianNB\n",
        "nb = GaussianNB()"
      ],
      "metadata": {
        "id": "RPIVh_vLpV9R"
      },
      "execution_count": null,
      "outputs": []
    },
    {
      "cell_type": "code",
      "source": [
        "# Stochastic Gradient Descent\n",
        "from sklearn.linear_model import SGDClassifier\n",
        "sgd = SGDClassifier(loss='modified_huber', shuffle=True,random_state=101,\\\n",
        "                    tol=1e-3,max_iter=1000)"
      ],
      "metadata": {
        "id": "KzsnnQM5peE8"
      },
      "execution_count": null,
      "outputs": []
    },
    {
      "cell_type": "code",
      "source": [
        "# Neural Network\n",
        "from sklearn.neural_network import MLPClassifier\n",
        "nn = MLPClassifier(solver='lbfgs',alpha=1e-5,max_iter=200,\\\n",
        "                    activation='relu',hidden_layer_sizes=(10,30,10),\\\n",
        "                    random_state=1, shuffle=True)"
      ],
      "metadata": {
        "id": "5UO5UoLHpqvv"
      },
      "execution_count": null,
      "outputs": []
    },
    {
      "cell_type": "code",
      "source": [
        "# classification methods\n",
        "m = [nb,lr,sgd,knn,dtree,rfm,svm,nn]\n",
        "s = ['nb','lr','sgd','knn','dt','rfm','svm','nn']"
      ],
      "metadata": {
        "id": "e6wHB9wYptRY"
      },
      "execution_count": null,
      "outputs": []
    },
    {
      "cell_type": "code",
      "source": [
        "# fit classifiers\n",
        "print('Train Classifiers')\n",
        "for i,x in enumerate(m):\n",
        "    st = time.time()\n",
        "    x.fit(XA,yA)\n",
        "    tf = str(round(time.time()-st,5))\n",
        "    print(s[i] + ' time: ' + tf)"
      ],
      "metadata": {
        "colab": {
          "base_uri": "https://localhost:8080/"
        },
        "id": "lUJv7vpvp51Z",
        "outputId": "dbf4b25c-831c-4e55-8545-65eec6bc77a7"
      },
      "execution_count": null,
      "outputs": [
        {
          "output_type": "stream",
          "name": "stdout",
          "text": [
            "Train Classifiers\n",
            "nb time: 0.00602\n",
            "lr time: 2.88297\n",
            "sgd time: 0.04359\n",
            "knn time: 0.00075\n",
            "dt time: 0.01419\n",
            "rfm time: 0.59561\n",
            "svm time: 0.02995\n",
            "nn time: 1.03651\n"
          ]
        }
      ]
    },
    {
      "cell_type": "code",
      "source": [
        "# test on random number in second half of data\n",
        "n = np.random.randint(int(n_samples/2),n_samples)\n",
        "Xt = digits.data[n:n+1]"
      ],
      "metadata": {
        "id": "asZq301cp-P1"
      },
      "execution_count": null,
      "outputs": []
    },
    {
      "cell_type": "code",
      "execution_count": null,
      "metadata": {
        "colab": {
          "base_uri": "https://localhost:8080/",
          "height": 444
        },
        "id": "jisPLYCwpC3K",
        "outputId": "a5c70974-f701-4544-f4ed-57e4ee2ae424"
      },
      "outputs": [
        {
          "output_type": "stream",
          "name": "stdout",
          "text": [
            "Test Classifiers\n",
            "nb predicts: 3 time: 0.00204\n",
            "lr predicts: 9 time: 0.00038\n",
            "sgd predicts: 9 time: 0.00023\n",
            "knn predicts: 9 time: 0.00773\n",
            "dt predicts: 9 time: 0.00028\n",
            "rfm predicts: 9 time: 0.01427\n",
            "svm predicts: 9 time: 0.00053\n",
            "nn predicts: 9 time: 0.00036\n",
            "Label: 9\n"
          ]
        },
        {
          "output_type": "display_data",
          "data": {
            "text/plain": [
              "<Figure size 432x288 with 1 Axes>"
            ],
            "image/png": "[encoded data removed]"
          },
          "metadata": {
            "needs_background": "light"
          }
        }
      ],
      "source": [
        "# test classifiers\n",
        "print('Test Classifiers')\n",
        "for i,x in enumerate(m):\n",
        "    st = time.time()\n",
        "    yt = x.predict(Xt)\n",
        "    tf = str(round(time.time()-st,5))\n",
        "    print(s[i] + ' predicts: ' + str(yt[0]) + ' time: ' + tf)\n",
        "print('Label: ' + str(digits.target[n:n+1][0]))\n",
        "\n",
        "plt.imshow(digits.images[n], cmap=plt.cm.gray_r, interpolation='nearest')\n",
        "plt.show()\n"
      ]
    }
  ]
}