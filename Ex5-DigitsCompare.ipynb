{
  "nbformat": 4,
  "nbformat_minor": 0,
  "metadata": {
    "colab": {
      "provenance": [],
      "authorship_tag": "ABX9TyMqSagYSe4/fP6lZ8s7SZVr",
      "include_colab_link": true
    },
    "kernelspec": {
      "name": "python3",
      "display_name": "Python 3"
    },
    "language_info": {
      "name": "python"
    }
  },
  "cells": [
    {
      "cell_type": "markdown",
      "metadata": {
        "id": "view-in-github",
        "colab_type": "text"
      },
      "source": [
        "<a href=\"https://colab.research.google.com/github/vkjadon/sklearn/blob/main/Ex5-DigitsCompare.ipynb\" target=\"_parent\"><img src=\"https://colab.research.google.com/assets/colab-badge.svg\" alt=\"Open In Colab\"/></a>"
      ]
    },
    {
      "cell_type": "code",
      "source": [
        "from sklearn import datasets, metrics\n",
        "from sklearn.model_selection import train_test_split\n",
        "import matplotlib.pyplot as plt\n",
        "import numpy as np\n",
        "import time"
      ],
      "metadata": {
        "id": "jCk8LqkjpL4T"
      },
      "execution_count": 1,
      "outputs": []
    },
    {
      "cell_type": "code",
      "source": [
        "# The digits dataset\n",
        "digits = datasets.load_digits()\n",
        "n_samples = len(digits.images)\n",
        "data = digits.images.reshape((n_samples, -1))"
      ],
      "metadata": {
        "id": "mjix2S4LpOqW"
      },
      "execution_count": 2,
      "outputs": []
    },
    {
      "cell_type": "code",
      "source": [
        "# Split into train and test subsets (50% each)\n",
        "X_train, X_test, y_train, y_test = train_test_split(data, digits.target, test_size=0.2, shuffle=False)\n",
        "print(X_train.shape)"
      ],
      "metadata": {
        "id": "o9H6AWYjpQzd",
        "outputId": "857f2645-3cf1-445c-f39a-915fc2a7fe7d",
        "colab": {
          "base_uri": "https://localhost:8080/"
        }
      },
      "execution_count": 3,
      "outputs": [
        {
          "output_type": "stream",
          "name": "stdout",
          "text": [
            "(1437, 64)\n"
          ]
        }
      ]
    },
    {
      "cell_type": "code",
      "source": [
        "# Logistic Regression\n",
        "from sklearn.linear_model import LogisticRegression\n",
        "lr = LogisticRegression(solver='lbfgs',multi_class='auto',max_iter=2000)\n",
        "lr.fit(X_train,y_train)"
      ],
      "metadata": {
        "id": "DMftpO2ppS6G",
        "outputId": "e8f23ffd-4c22-44d2-ca5f-3e06d573fd0b",
        "colab": {
          "base_uri": "https://localhost:8080/"
        }
      },
      "execution_count": 5,
      "outputs": [
        {
          "output_type": "execute_result",
          "data": {
            "text/plain": [
              "LogisticRegression(max_iter=2000)"
            ]
          },
          "metadata": {},
          "execution_count": 5
        }
      ]
    },
    {
      "cell_type": "code",
      "source": [
        "n = np.random.randint(int(n_samples/2),n_samples)\n",
        "Xt = digits.data[n:n+1]\n",
        "plt.imshow(digits.images[n], cmap=plt.cm.gray_r, interpolation='nearest')\n",
        "plt.show()\n",
        "yt = lr.predict(Xt)\n",
        "print(' predicts: ' + str(yt[0]))\n",
        "print('Label: ' + str(digits.target[n:n+1][0]))"
      ],
      "metadata": {
        "id": "g6I9De9Or6Hz",
        "outputId": "21c6dcf4-1d72-41a3-ce43-0495c7fe1818",
        "colab": {
          "base_uri": "https://localhost:8080/",
          "height": 301
        }
      },
      "execution_count": 6,
      "outputs": [
        {
          "output_type": "display_data",
          "data": {
            "text/plain": [
              "<Figure size 432x288 with 1 Axes>"
            ],
            "image/png": "[encoded data removed]"
          },
          "metadata": {
            "needs_background": "light"
          }
        },
        {
          "output_type": "stream",
          "name": "stdout",
          "text": [
            " predicts: 8\n",
            "Label: 8\n"
          ]
        }
      ]
    },
    {
      "cell_type": "code",
      "source": [
        "# K-Nearest Neighbors\n",
        "from sklearn.neighbors import KNeighborsClassifier\n",
        "knn = KNeighborsClassifier(n_neighbors=10)\n",
        "knn.fit(X_train,y_train)\n",
        "yt = knn.predict(Xt)\n",
        "print(' predicts: ' + str(yt[0]))\n",
        "print('Label: ' + str(digits.target[n:n+1][0]))"
      ],
      "metadata": {
        "id": "LN0t-ISNpgZD",
        "outputId": "693b6e09-a51e-43c2-f1d0-1fa9cfdcc78c",
        "colab": {
          "base_uri": "https://localhost:8080/"
        }
      },
      "execution_count": 7,
      "outputs": [
        {
          "output_type": "stream",
          "name": "stdout",
          "text": [
            " predicts: 8\n",
            "Label: 8\n"
          ]
        }
      ]
    },
    {
      "cell_type": "code",
      "source": [
        "# Support Vector Classifier\n",
        "from sklearn.svm import SVC\n",
        "svm = SVC(gamma='scale', C=1.0, random_state=101)"
      ],
      "metadata": {
        "id": "Hv2J1Mhgpopy"
      },
      "execution_count": 8,
      "outputs": []
    },
    {
      "cell_type": "code",
      "source": [
        "# Decision Tree\n",
        "from sklearn.tree import DecisionTreeClassifier\n",
        "dtree = DecisionTreeClassifier(max_depth=10,random_state=101, max_features=None,min_samples_leaf=5)"
      ],
      "metadata": {
        "id": "3ZDGyT0Spi1I"
      },
      "execution_count": 9,
      "outputs": []
    },
    {
      "cell_type": "code",
      "source": [
        "# Random Forest\n",
        "from sklearn.ensemble import RandomForestClassifier\n",
        "rfm = RandomForestClassifier(n_estimators=70,oob_score=True,n_jobs=1, random_state=101,max_features=None,min_samples_leaf=3)"
      ],
      "metadata": {
        "id": "dN7nojzTpmt5"
      },
      "execution_count": 10,
      "outputs": []
    },
    {
      "cell_type": "code",
      "source": [
        "# Naïve Bayes\n",
        "from sklearn.naive_bayes import GaussianNB\n",
        "nb = GaussianNB()"
      ],
      "metadata": {
        "id": "RPIVh_vLpV9R"
      },
      "execution_count": 11,
      "outputs": []
    },
    {
      "cell_type": "code",
      "source": [
        "# Stochastic Gradient Descent\n",
        "from sklearn.linear_model import SGDClassifier\n",
        "sgd = SGDClassifier(loss='modified_huber', shuffle=True,random_state=101, tol=1e-3,max_iter=1000)"
      ],
      "metadata": {
        "id": "KzsnnQM5peE8"
      },
      "execution_count": 12,
      "outputs": []
    },
    {
      "cell_type": "code",
      "source": [
        "# Neural Network\n",
        "from sklearn.neural_network import MLPClassifier\n",
        "nn = MLPClassifier(solver='lbfgs',alpha=1e-5,max_iter=200,activation='relu',hidden_layer_sizes=(10,30,10),random_state=1, shuffle=True)"
      ],
      "metadata": {
        "id": "5UO5UoLHpqvv"
      },
      "execution_count": 13,
      "outputs": []
    },
    {
      "cell_type": "code",
      "source": [
        "# classification methods\n",
        "m = [nb,lr,sgd,knn,dtree,rfm,svm,nn]\n",
        "s = ['nb','lr','sgd','knn','dt','rfm','svm','nn']"
      ],
      "metadata": {
        "id": "e6wHB9wYptRY"
      },
      "execution_count": 14,
      "outputs": []
    },
    {
      "cell_type": "code",
      "source": [
        "# fit classifiers\n",
        "print('Train Classifiers')\n",
        "for i,x in enumerate(m):\n",
        "    st = time.time()\n",
        "    x.fit(X_train,y_train)\n",
        "    tf = str(round(time.time()-st,5))\n",
        "    print(s[i] + ' time: ' + tf)"
      ],
      "metadata": {
        "colab": {
          "base_uri": "https://localhost:8080/"
        },
        "id": "lUJv7vpvp51Z",
        "outputId": "955e0dda-cd0c-4d4a-9154-ce10ad3e2aa7"
      },
      "execution_count": 15,
      "outputs": [
        {
          "output_type": "stream",
          "name": "stdout",
          "text": [
            "Train Classifiers\n",
            "nb time: 0.02071\n",
            "lr time: 4.87715\n",
            "sgd time: 0.07516\n",
            "knn time: 0.00123\n",
            "dt time: 0.02484\n",
            "rfm time: 0.90326\n",
            "svm time: 0.06019\n",
            "nn time: 0.74244\n"
          ]
        }
      ]
    },
    {
      "cell_type": "code",
      "source": [
        "# test on random number in second half of data\n",
        "n = np.random.randint(int(n_samples/2),n_samples)\n",
        "Xt = digits.data[n:n+1]"
      ],
      "metadata": {
        "id": "asZq301cp-P1"
      },
      "execution_count": 16,
      "outputs": []
    },
    {
      "cell_type": "code",
      "execution_count": 17,
      "metadata": {
        "colab": {
          "base_uri": "https://localhost:8080/",
          "height": 444
        },
        "id": "jisPLYCwpC3K",
        "outputId": "7ef9b91a-6366-4f7e-b5d2-7bcf7733959a"
      },
      "outputs": [
        {
          "output_type": "stream",
          "name": "stdout",
          "text": [
            "Test Classifiers\n",
            "nb predicts: 5 time: 0.00359\n",
            "lr predicts: 5 time: 0.00032\n",
            "sgd predicts: 5 time: 0.00024\n",
            "knn predicts: 5 time: 0.00633\n",
            "dt predicts: 5 time: 0.00049\n",
            "rfm predicts: 5 time: 0.00981\n",
            "svm predicts: 5 time: 0.00049\n",
            "nn predicts: 5 time: 0.00032\n",
            "Label: 5\n"
          ]
        },
        {
          "output_type": "display_data",
          "data": {
            "text/plain": [
              "<Figure size 432x288 with 1 Axes>"
            ],
            "image/png": "[encoded data removed]"
          },
          "metadata": {
            "needs_background": "light"
          }
        }
      ],
      "source": [
        "# test classifiers\n",
        "print('Test Classifiers')\n",
        "for i,x in enumerate(m):\n",
        "    st = time.time()\n",
        "    yt = x.predict(Xt)\n",
        "    tf = str(round(time.time()-st,5))\n",
        "    print(s[i] + ' predicts: ' + str(yt[0]) + ' time: ' + tf)\n",
        "print('Label: ' + str(digits.target[n:n+1][0]))\n",
        "\n",
        "plt.imshow(digits.images[n], cmap=plt.cm.gray_r, interpolation='nearest')\n",
        "plt.show()\n"
      ]
    }
  ]
}