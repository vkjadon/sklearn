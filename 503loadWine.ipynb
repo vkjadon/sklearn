{
  "nbformat": 4,
  "nbformat_minor": 0,
  "metadata": {
    "colab": {
      "provenance": []
    },
    "kernelspec": {
      "name": "python3",
      "display_name": "Python 3"
    },
    "language_info": {
      "name": "python"
    }
  },
  "cells": [
    {
      "cell_type": "code",
      "execution_count": 1,
      "metadata": {
        "id": "ygRBFCVpsWZO"
      },
      "outputs": [],
      "source": [
        "import numpy as np\n",
        "import pandas as pd\n",
        "import matplotlib.pyplot as plt\n",
        "import seaborn as sns\n",
        "import sklearn"
      ]
    },
    {
      "cell_type": "code",
      "source": [
        "from sklearn.datasets import load_wine"
      ],
      "metadata": {
        "id": "k-_ibxwSsxdK"
      },
      "execution_count": 2,
      "outputs": []
    },
    {
      "cell_type": "code",
      "source": [
        "data= load_wine()"
      ],
      "metadata": {
        "id": "2Z5bIVl0s2-N"
      },
      "execution_count": 3,
      "outputs": []
    },
    {
      "cell_type": "code",
      "source": [
        "data"
      ],
      "metadata": {
        "id": "tMgSKIf2s-88"
      },
      "execution_count": null,
      "outputs": []
    },
    {
      "cell_type": "code",
      "source": [
        "data.feature_names"
      ],
      "metadata": {
        "colab": {
          "base_uri": "https://localhost:8080/"
        },
        "id": "RNSv-v32s_7a",
        "outputId": "cf8721d2-877d-4afc-f2a0-f877cd0843c9"
      },
      "execution_count": 5,
      "outputs": [
        {
          "output_type": "execute_result",
          "data": {
            "text/plain": [
              "['alcohol',\n",
              " 'malic_acid',\n",
              " 'ash',\n",
              " 'alcalinity_of_ash',\n",
              " 'magnesium',\n",
              " 'total_phenols',\n",
              " 'flavanoids',\n",
              " 'nonflavanoid_phenols',\n",
              " 'proanthocyanins',\n",
              " 'color_intensity',\n",
              " 'hue',\n",
              " 'od280/od315_of_diluted_wines',\n",
              " 'proline']"
            ]
          },
          "metadata": {},
          "execution_count": 5
        }
      ]
    },
    {
      "cell_type": "code",
      "source": [
        "data_X,data_y=load_wine(return_X_y= True)"
      ],
      "metadata": {
        "id": "M1Um8OBYtK5B"
      },
      "execution_count": 6,
      "outputs": []
    },
    {
      "cell_type": "code",
      "source": [
        "data_X"
      ],
      "metadata": {
        "colab": {
          "base_uri": "https://localhost:8080/"
        },
        "id": "1Eq_eOHUtaZW",
        "outputId": "401ce189-1f0e-4904-aea1-299d52934376"
      },
      "execution_count": 7,
      "outputs": [
        {
          "output_type": "execute_result",
          "data": {
            "text/plain": [
              "array([[1.423e+01, 1.710e+00, 2.430e+00, ..., 1.040e+00, 3.920e+00,\n",
              "        1.065e+03],\n",
              "       [1.320e+01, 1.780e+00, 2.140e+00, ..., 1.050e+00, 3.400e+00,\n",
              "        1.050e+03],\n",
              "       [1.316e+01, 2.360e+00, 2.670e+00, ..., 1.030e+00, 3.170e+00,\n",
              "        1.185e+03],\n",
              "       ...,\n",
              "       [1.327e+01, 4.280e+00, 2.260e+00, ..., 5.900e-01, 1.560e+00,\n",
              "        8.350e+02],\n",
              "       [1.317e+01, 2.590e+00, 2.370e+00, ..., 6.000e-01, 1.620e+00,\n",
              "        8.400e+02],\n",
              "       [1.413e+01, 4.100e+00, 2.740e+00, ..., 6.100e-01, 1.600e+00,\n",
              "        5.600e+02]])"
            ]
          },
          "metadata": {},
          "execution_count": 7
        }
      ]
    },
    {
      "cell_type": "code",
      "source": [
        "data_y\n"
      ],
      "metadata": {
        "colab": {
          "base_uri": "https://localhost:8080/"
        },
        "id": "y6CPiEsYtcqV",
        "outputId": "6f4dfef2-c0b5-4c06-91e3-8237fa7af31c"
      },
      "execution_count": 8,
      "outputs": [
        {
          "output_type": "execute_result",
          "data": {
            "text/plain": [
              "array([0, 0, 0, 0, 0, 0, 0, 0, 0, 0, 0, 0, 0, 0, 0, 0, 0, 0, 0, 0, 0, 0,\n",
              "       0, 0, 0, 0, 0, 0, 0, 0, 0, 0, 0, 0, 0, 0, 0, 0, 0, 0, 0, 0, 0, 0,\n",
              "       0, 0, 0, 0, 0, 0, 0, 0, 0, 0, 0, 0, 0, 0, 0, 1, 1, 1, 1, 1, 1, 1,\n",
              "       1, 1, 1, 1, 1, 1, 1, 1, 1, 1, 1, 1, 1, 1, 1, 1, 1, 1, 1, 1, 1, 1,\n",
              "       1, 1, 1, 1, 1, 1, 1, 1, 1, 1, 1, 1, 1, 1, 1, 1, 1, 1, 1, 1, 1, 1,\n",
              "       1, 1, 1, 1, 1, 1, 1, 1, 1, 1, 1, 1, 1, 1, 1, 1, 1, 1, 1, 1, 2, 2,\n",
              "       2, 2, 2, 2, 2, 2, 2, 2, 2, 2, 2, 2, 2, 2, 2, 2, 2, 2, 2, 2, 2, 2,\n",
              "       2, 2, 2, 2, 2, 2, 2, 2, 2, 2, 2, 2, 2, 2, 2, 2, 2, 2, 2, 2, 2, 2,\n",
              "       2, 2])"
            ]
          },
          "metadata": {},
          "execution_count": 8
        }
      ]
    },
    {
      "cell_type": "code",
      "source": [
        "\n",
        "plt.scatter(data_X[:,0], data_y, c=data_y, cmap='rainbow')\n",
        "\n",
        "plt.show()"
      ],
      "metadata": {
        "colab": {
          "base_uri": "https://localhost:8080/",
          "height": 265
        },
        "id": "5GGH6dTjte2Q",
        "outputId": "122e279d-cb7c-448e-88ad-3df8c2daed44"
      },
      "execution_count": 16,
      "outputs": [
        {
          "output_type": "display_data",
          "data": {
            "text/plain": [
              "<Figure size 432x288 with 1 Axes>"
            ],
            "image/png": "[encoded data removed]"
          },
          "metadata": {
            "needs_background": "light"
          }
        }
      ]
    },
    {
      "cell_type": "code",
      "source": [
        "from sklearn.model_selection import train_test_split"
      ],
      "metadata": {
        "id": "V-ab7gQRuT9b"
      },
      "execution_count": 17,
      "outputs": []
    },
    {
      "cell_type": "code",
      "source": [
        "data_X_train, data_X_test, data_y_train, data_y_test = train_test_split(data_X, data_y, test_size = 0.2, shuffle=False )"
      ],
      "metadata": {
        "id": "Kad1BAKwvd2F"
      },
      "execution_count": 18,
      "outputs": []
    },
    {
      "cell_type": "code",
      "source": [
        "from sklearn.metrics import confusion_matrix, classification_report, accuracy_score, recall_score, r2_score\n",
        "from sklearn.svm import SVC\n",
        "svc_classifier = SVC()\n",
        "svc_classifier.fit(data_X_train, data_y_train)"
      ],
      "metadata": {
        "colab": {
          "base_uri": "https://localhost:8080/"
        },
        "id": "k5ZW1R4HwYe3",
        "outputId": "d6ce9d02-2555-431e-ecab-d2148827160d"
      },
      "execution_count": 44,
      "outputs": [
        {
          "output_type": "execute_result",
          "data": {
            "text/plain": [
              "SVC()"
            ]
          },
          "metadata": {},
          "execution_count": 44
        }
      ]
    },
    {
      "cell_type": "code",
      "source": [
        "from sklearn.neighbors import KNeighborsClassifier as knn\n",
        "knn_classifier = knn()\n",
        "knn_classifier.fit(data_X_train, data_y_train)"
      ],
      "metadata": {
        "colab": {
          "base_uri": "https://localhost:8080/"
        },
        "id": "fUTz3uYHwdT9",
        "outputId": "5c189f8f-ad56-4960-d9be-cc44a159987e"
      },
      "execution_count": 20,
      "outputs": [
        {
          "output_type": "execute_result",
          "data": {
            "text/plain": [
              "KNeighborsClassifier()"
            ]
          },
          "metadata": {},
          "execution_count": 20
        }
      ]
    },
    {
      "cell_type": "code",
      "source": [
        "from sklearn.tree import DecisionTreeClassifier\n",
        "dtree_classifier = DecisionTreeClassifier()\n",
        "dtree_classifier.fit(data_X_train, data_y_train)\n"
      ],
      "metadata": {
        "colab": {
          "base_uri": "https://localhost:8080/"
        },
        "id": "ifm7hridxHl4",
        "outputId": "95ff54a4-cc84-4cad-ba4d-33098849358d"
      },
      "execution_count": 21,
      "outputs": [
        {
          "output_type": "execute_result",
          "data": {
            "text/plain": [
              "DecisionTreeClassifier()"
            ]
          },
          "metadata": {},
          "execution_count": 21
        }
      ]
    },
    {
      "cell_type": "code",
      "source": [
        "from sklearn.ensemble import RandomForestClassifier\n",
        "rfm_classifier = RandomForestClassifier()\n",
        "rfm_classifier.fit(data_X_train,data_y_train)"
      ],
      "metadata": {
        "colab": {
          "base_uri": "https://localhost:8080/"
        },
        "id": "vHMQr2JwyS3o",
        "outputId": "5bf758a0-ec8d-4350-ac87-08489b58190c"
      },
      "execution_count": 25,
      "outputs": [
        {
          "output_type": "execute_result",
          "data": {
            "text/plain": [
              "RandomForestClassifier()"
            ]
          },
          "metadata": {},
          "execution_count": 25
        }
      ]
    },
    {
      "cell_type": "code",
      "source": [
        "from sklearn.naive_bayes import GaussianNB\n",
        "nb_classifier = GaussianNB()\n",
        "nb_classifier.fit(data_X_train,data_y_train)"
      ],
      "metadata": {
        "colab": {
          "base_uri": "https://localhost:8080/"
        },
        "id": "SRr6ulCuyjvL",
        "outputId": "cb7c688c-d430-4539-bfd4-1c8664fba926"
      },
      "execution_count": 26,
      "outputs": [
        {
          "output_type": "execute_result",
          "data": {
            "text/plain": [
              "GaussianNB()"
            ]
          },
          "metadata": {},
          "execution_count": 26
        }
      ]
    },
    {
      "cell_type": "code",
      "source": [
        "y_pred_scv = svc_classifier.predict(data_X_test)\n",
        "print(accuracy_score(data_y_test, y_pred_scv))\n",
        "print(r2_score(data_y_test, y_pred_scv))"
      ],
      "metadata": {
        "colab": {
          "base_uri": "https://localhost:8080/"
        },
        "id": "_DAN6Bz1zCd8",
        "outputId": "5c7f7abd-fcd2-4110-f4ba-bbbb3e5bc1ba"
      },
      "execution_count": 39,
      "outputs": [
        {
          "output_type": "stream",
          "name": "stdout",
          "text": [
            "0.0\n",
            "0.0\n"
          ]
        }
      ]
    },
    {
      "cell_type": "code",
      "source": [
        "y_pred_knn = knn_classifier.predict(data_X_test)\n",
        "accuracy_score(data_y_test, y_pred_knn)\n",
        "print(accuracy_score(data_y_test, y_pred_knn))\n",
        "print(r2_score(data_y_test, y_pred_knn))\n"
      ],
      "metadata": {
        "colab": {
          "base_uri": "https://localhost:8080/"
        },
        "id": "XRsgEIWBzKZc",
        "outputId": "49366117-5784-40f7-b356-af06c8f228b6"
      },
      "execution_count": 40,
      "outputs": [
        {
          "output_type": "stream",
          "name": "stdout",
          "text": [
            "0.0\n",
            "0.0\n"
          ]
        }
      ]
    },
    {
      "cell_type": "code",
      "source": [
        "y_pred_nb = nb_classifier.predict(data_X_test)\n",
        "accuracy_score(data_y_test, y_pred_nb)\n",
        "print(accuracy_score(data_y_test, y_pred_nb))\n",
        "print(r2_score(data_y_test, y_pred_nb))"
      ],
      "metadata": {
        "colab": {
          "base_uri": "https://localhost:8080/"
        },
        "id": "Vhjog6WLzPpc",
        "outputId": "98e9409b-703e-49b4-b6e4-815b2b151394"
      },
      "execution_count": 41,
      "outputs": [
        {
          "output_type": "stream",
          "name": "stdout",
          "text": [
            "0.9166666666666666\n",
            "0.0\n"
          ]
        }
      ]
    },
    {
      "cell_type": "code",
      "source": [
        "y_pred_rfm = rfm_classifier.predict(data_X_test)\n",
        "accuracy_score(data_y_test, y_pred_rfm)\n",
        "print(accuracy_score(data_y_test, y_pred_rfm))\n",
        "print(r2_score(data_y_test, y_pred_rfm))"
      ],
      "metadata": {
        "colab": {
          "base_uri": "https://localhost:8080/"
        },
        "id": "M1Tts2IezZ5U",
        "outputId": "1f532a21-adc0-4a24-e4be-360ccc1fec93"
      },
      "execution_count": 42,
      "outputs": [
        {
          "output_type": "stream",
          "name": "stdout",
          "text": [
            "0.9722222222222222\n",
            "0.0\n"
          ]
        }
      ]
    },
    {
      "cell_type": "code",
      "source": [
        "y_pred_dtree = dtree_classifier.predict(data_X_test)\n",
        "accuracy_score(data_y_test, y_pred_dtree)\n",
        "print(accuracy_score(data_y_test, y_pred_dtree))\n",
        "print(r2_score(data_y_test, y_pred_dtree))"
      ],
      "metadata": {
        "colab": {
          "base_uri": "https://localhost:8080/"
        },
        "id": "0q4BM5KwziKm",
        "outputId": "d4dc7fd8-3397-463a-98ea-d82232386c0c"
      },
      "execution_count": 43,
      "outputs": [
        {
          "output_type": "stream",
          "name": "stdout",
          "text": [
            "0.9444444444444444\n",
            "0.0\n"
          ]
        }
      ]
    },
    {
      "cell_type": "code",
      "source": [
        "accuracy score of dtree is 94.4%\n",
        "and accuracy of rfm is 97.np._2 and nb accuracy is 91.6"
      ],
      "metadata": {
        "id": "O1oL4NLv4aU6"
      },
      "execution_count": null,
      "outputs": []
    },
    {
      "cell_type": "code",
      "source": [
        "#plt.scatter(data_X[:,0], data_y, c=data_y, cmap='rainbow')\n",
        "plt.show()\n",
        "\n",
        "#data_X_train, data_X_test, data_y_train, data_y_test = train_test_split(data_X, data_y, test_size = 0.2, shuffle=False )\n",
        "\n",
        "# from sklearn.svm import SVC\n",
        "#svc_classifier = SVC()\n",
        "#svc_classifier.fit(data_X_train, data_y_train)\n",
        "\n",
        "\n",
        "# from sklearn.neighbors import KNeighborsClassifier as knn\n",
        "#knn_classifier = knn()\n",
        "#knn_classifier.fit(data_X_train, data_y_train)\n",
        "\n",
        "\n",
        "# from sklearn.tree import DecisionTreeClassifier\n",
        "#dtree_classifier = DecisionTreeClassifier()\n",
        "#dtree_classifier.fit(data_X_train, data_y_train)\n",
        "\n",
        "#from sklearn.ensemble import RandomForestClassifier\n",
        "#rfm_classifier = RandomForestClassifier()\n",
        "#rfm_classifier.fit(data_X_train,data_y_train)\n",
        "\n",
        "#from sklearn.naive_bayes import GaussianNB\n",
        "#nb_classifier = GaussianNB()\n",
        "#nb_classifier.fit(data_X_train,data_y_train)\n",
        "\n",
        "#y_pred_scv = svc_classifier.predict(data_X_test)\n",
        "##print(accuracy_score(data_y_test, y_pred_scv))\n",
        "#print(r2_score(data_y_test, y_pred_scv))\n",
        "\n",
        "#y_pred_knn = knn_classifier.predict(data_X_test)\n",
        "#accuracy_score(data_y_test, y_pred_knn)\n",
        "#print(accuracy_score(data_y_test, y_pred_knn))\n",
        "#print(r2_score(data_y_test, y_pred_knn))\n",
        "\n",
        "#y_pred_nb = nb_classifier.predict(data_X_test)\n",
        "#accuracy_score(data_y_test, y_pred_nb)\n",
        "#print(accuracy_score(data_y_test, y_pred_nb))\n",
        "#print(r2_score(data_y_test, y_pred_nb))\n",
        "\n",
        "\n",
        "#y_pred_rfm = rfm_classifier.predict(data_X_test)\n",
        "#accuracy_score(data_y_test, y_pred_rfm)\n",
        "#print(accuracy_score(data_y_test, y_pred_rfm))\n",
        "#print(r2_score(data_y_test, y_pred_rfm))#\n",
        "\n",
        "#y_pred_dtree = dtree_classifier.predict(data_X_test)\n",
        "#accuracy_score(data_y_test, y_pred_dtree)\n",
        "#print(accuracy_score(data_y_test, y_pred_dtree))\n",
        "#print(r2_score(data_y_test, y_pred_dtree))\n"
      ],
      "metadata": {
        "id": "_vNYd7GUzpdL"
      },
      "execution_count": null,
      "outputs": []
    }
  ]
}