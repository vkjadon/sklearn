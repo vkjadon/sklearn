{
  "cells": [
    {
      "cell_type": "markdown",
      "metadata": {
        "id": "a2uOK0Ip0gyP"
      },
      "source": [
        "## Logistic Regression Example using 'sklearn'\n",
        "- Will use `make_classification` for generating dataset.\n",
        "- Will use only `one feature` and `m` training sets.\n",
        "\n",
        "<img src=\"https://github.com/vkjadon/AI-ipynb/blob/master/images/model_lr.png?raw=1\" style=\"width:500px;text-align:center\">\n"
      ]
    },
    {
      "cell_type": "code",
      "execution_count": 1,
      "metadata": {
        "id": "Eut5w8jT0gyR"
      },
      "outputs": [],
      "source": [
        "import matplotlib.pyplot as plt\n",
        "from sklearn.datasets import make_classification\n",
        "from sklearn.linear_model import LogisticRegression\n",
        "from sklearn.model_selection import train_test_split\n",
        "from sklearn.metrics import confusion_matrix"
      ]
    },
    {
      "cell_type": "markdown",
      "metadata": {
        "id": "A1bm5kZW0gyS"
      },
      "source": [
        "### Generate Dataset"
      ]
    },
    {
      "cell_type": "markdown",
      "source": [
        "https://scikit-learn.org/stable/datasets/sample_generators.html\n",
        "\n",
        "https://scikit-learn.org/stable/modules/generated/sklearn.datasets.make_classification.html#sklearn.datasets.make_classification"
      ],
      "metadata": {
        "id": "BtMlDBl52U0N"
      }
    },
    {
      "cell_type": "code",
      "execution_count": 25,
      "metadata": {
        "id": "eZXGfRwh0gyS"
      },
      "outputs": [],
      "source": [
        "# Generate dataset for Logistic Regression\n",
        "data_set_x_orig, data_set_y_orig = make_classification(n_samples=100,n_features=6, n_informative=2, n_redundant=0,n_classes=2,\n",
        "    n_clusters_per_class=1,)"
      ]
    },
    {
      "cell_type": "code",
      "execution_count": null,
      "metadata": {
        "id": "cKwsSXI60gyT"
      },
      "outputs": [],
      "source": [
        "print(data_set_x_orig.shape)\n",
        "print(data_set_x_orig[:,1])"
      ]
    },
    {
      "cell_type": "markdown",
      "metadata": {
        "id": "8bUZdlfw0gyU"
      },
      "source": [
        "### Visualization"
      ]
    },
    {
      "cell_type": "code",
      "execution_count": 29,
      "metadata": {
        "id": "zp93gIxC0gyU",
        "outputId": "1c9ee1bd-fec5-4a0d-eb01-5cdf8cd3be1e",
        "colab": {
          "base_uri": "https://localhost:8080/",
          "height": 281
        }
      },
      "outputs": [
        {
          "output_type": "display_data",
          "data": {
            "text/plain": [
              "<Figure size 432x288 with 1 Axes>"
            ],
            "image/png": "[encoded data removed]"
          },
          "metadata": {
            "needs_background": "light"
          }
        }
      ],
      "source": [
        "plt.scatter(data_set_x_orig[:,4], data_set_y_orig, c=data_set_y_orig, cmap='rainbow')\n",
        "plt.title('Scatter Plot of Logistic Regression')\n",
        "plt.show()"
      ]
    },
    {
      "cell_type": "code",
      "execution_count": 30,
      "metadata": {
        "id": "NV9yzBqu0gyV"
      },
      "outputs": [],
      "source": [
        "# Split the dataset into training and test dataset\n",
        "x_train, x_test, y_train, y_test = train_test_split(data_set_x_orig, data_set_y_orig, train_size=0.8, test_size=0.2, random_state=1)"
      ]
    },
    {
      "cell_type": "code",
      "execution_count": 31,
      "metadata": {
        "id": "sZHxlCrQ0gyW",
        "outputId": "ab21ce21-e29c-4237-ce64-783afd80e252",
        "colab": {
          "base_uri": "https://localhost:8080/"
        }
      },
      "outputs": [
        {
          "output_type": "execute_result",
          "data": {
            "text/plain": [
              "LogisticRegression()"
            ]
          },
          "metadata": {},
          "execution_count": 31
        }
      ],
      "source": [
        "# Create a Logistic Regression Object, perform Logistic Regression\n",
        "lr = LogisticRegression()\n",
        "lr.fit(x_train, y_train)"
      ]
    },
    {
      "cell_type": "code",
      "execution_count": 32,
      "metadata": {
        "id": "BTHz02n00gyW",
        "outputId": "5f71b6b8-30a3-44e7-a622-7c06f392a00f",
        "colab": {
          "base_uri": "https://localhost:8080/"
        }
      },
      "outputs": [
        {
          "output_type": "stream",
          "name": "stdout",
          "text": [
            "[[-0.05629222 -0.15929134 -0.14359469 -0.32475821 -1.59572541 -0.91368568]]\n",
            "[0.39932053]\n"
          ]
        }
      ],
      "source": [
        "# Show to Coeficient and Intercept\n",
        "print(lr.coef_)\n",
        "print(lr.intercept_)"
      ]
    },
    {
      "cell_type": "code",
      "execution_count": 33,
      "metadata": {
        "id": "5fiUK9QV0gyW",
        "outputId": "b3a69ee9-ae52-4a0d-fd6e-59452003008b",
        "colab": {
          "base_uri": "https://localhost:8080/"
        }
      },
      "outputs": [
        {
          "output_type": "stream",
          "name": "stdout",
          "text": [
            "[0 1 1 1 1 1 1 1 0 1 0 0 0 0 0 1 0 0 1 0]\n"
          ]
        }
      ],
      "source": [
        "# Perform prediction using the test dataset\n",
        "y_pred = lr.predict(x_test)\n",
        "print(y_pred)"
      ]
    },
    {
      "cell_type": "code",
      "execution_count": 35,
      "metadata": {
        "id": "72I6wpmv0gyX",
        "outputId": "2163c44a-95cd-4287-8857-a6613baf1c1a",
        "colab": {
          "base_uri": "https://localhost:8080/"
        }
      },
      "outputs": [
        {
          "output_type": "execute_result",
          "data": {
            "text/plain": [
              "array([[10,  3],\n",
              "       [ 0,  7]])"
            ]
          },
          "metadata": {},
          "execution_count": 35
        }
      ],
      "source": [
        "# Show the Confusion Matrix\n",
        "confusion_matrix(y_test, y_pred)"
      ]
    }
  ],
  "metadata": {
    "interpreter": {
      "hash": "aee8b7b246df8f9039afb4144a1f6fd8d2ca17a180786b69acc140d282b71a49"
    },
    "kernelspec": {
      "display_name": "Python 3.7.9 64-bit",
      "language": "python",
      "name": "python3"
    },
    "language_info": {
      "codemirror_mode": {
        "name": "ipython",
        "version": 3
      },
      "file_extension": ".py",
      "mimetype": "text/x-python",
      "name": "python",
      "nbconvert_exporter": "python",
      "pygments_lexer": "ipython3",
      "version": "3.7.9"
    },
    "orig_nbformat": 4,
    "colab": {
      "provenance": []
    }
  },
  "nbformat": 4,
  "nbformat_minor": 0
}