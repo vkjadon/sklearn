{
  "cells": [
    {
      "cell_type": "markdown",
      "metadata": {
        "id": "a2uOK0Ip0gyP"
      },
      "source": [
        "## Logistic Regression Example using 'sklearn'\n",
        "- Will use `make_classification` for generating dataset.\n",
        "- Will use only `one feature` and `m` training sets.\n",
        "\n",
        "<img src=\"https://github.com/vkjadon/AI-ipynb/blob/master/images/model_lr.png?raw=1\" style=\"width:500px;text-align:center\">\n"
      ]
    },
    {
      "cell_type": "code",
      "execution_count": null,
      "metadata": {
        "id": "Eut5w8jT0gyR"
      },
      "outputs": [],
      "source": [
        "import matplotlib.pyplot as plt\n",
        "from sklearn.datasets import make_classification\n",
        "from sklearn.linear_model import LogisticRegression\n",
        "from sklearn.model_selection import train_test_split\n",
        "from sklearn.metrics import confusion_matrix"
      ]
    },
    {
      "cell_type": "markdown",
      "metadata": {
        "id": "A1bm5kZW0gyS"
      },
      "source": [
        "### Generate Dataset"
      ]
    },
    {
      "cell_type": "code",
      "execution_count": null,
      "metadata": {
        "id": "eZXGfRwh0gyS"
      },
      "outputs": [],
      "source": [
        "# Generate dataset for Logistic Regression\n",
        "data_set_x_orig, data_set_y_orig = make_classification(n_samples=100,n_features=1, n_informative=1, n_redundant=0,n_classes=2,\n",
        "    n_clusters_per_class=1,)"
      ]
    },
    {
      "cell_type": "code",
      "execution_count": null,
      "metadata": {
        "id": "cKwsSXI60gyT",
        "outputId": "ea97a760-942b-49aa-bad9-b943e200ed90"
      },
      "outputs": [
        {
          "name": "stdout",
          "output_type": "stream",
          "text": [
            "(100, 1)\n",
            "[ 0.35419381  1.44098956  1.1992972  -0.92789805 -1.176267   -1.0861711\n",
            "  0.14964062 -1.28159039 -1.08995179 -1.06289228 -1.04246613 -1.06194652\n",
            " -0.99968266  2.98352509 -0.87927893 -1.10220283  0.60008722 -1.07968929\n",
            "  0.68801309  1.22592674  1.71189359 -1.12674977  2.31774469  0.84916555\n",
            "  1.62109456 -0.97870227  1.57363452 -0.19518317  1.81666512 -1.32632462\n",
            "  0.48038147  0.86048267 -1.03589309 -1.10591616 -1.07281609 -0.94303945\n",
            " -1.17706406 -1.07930227 -1.11294758 -0.29008004 -0.95974078 -0.94043938\n",
            "  2.034615   -0.78114228  1.90054079  0.23732596 -0.77665947 -1.10766138\n",
            "  0.44716819 -1.14859553  0.55707539  0.72432435  1.39971331  1.62608245\n",
            " -1.00806157 -0.12383475  1.27436262 -0.32189374 -1.11321263 -0.9467634\n",
            "  0.97130289 -1.09576533 -0.7467169  -1.21489159  0.17026516 -1.09404643\n",
            " -1.3836504  -0.67388868  1.20717244 -0.72536511  0.88317312  1.05723585\n",
            "  1.70433941 -0.8879836  -0.96271502  0.37220275 -0.97922983  2.7542275\n",
            " -1.17259166 -0.14082893 -1.02440493  0.34918198 -0.82066427 -1.19246457\n",
            "  0.56194576  0.39810844  0.90630093 -0.8448431  -0.83169754  1.45661192\n",
            "  2.00127649 -0.86323962  0.06628386 -0.98522682  2.12158616  1.17798359\n",
            " -1.09433759  0.45186166  0.74290028 -1.04885898]\n"
          ]
        }
      ],
      "source": [
        "print(data_set_x_orig.shape)\n",
        "print(data_set_x_orig[:,0])"
      ]
    },
    {
      "cell_type": "markdown",
      "metadata": {
        "id": "8bUZdlfw0gyU"
      },
      "source": [
        "### Visualization"
      ]
    },
    {
      "cell_type": "code",
      "execution_count": null,
      "metadata": {
        "id": "zp93gIxC0gyU",
        "outputId": "0284f160-3c71-4368-9413-c50f40450c30"
      },
      "outputs": [
        {
          "data": {
            "image/png": "[encoded data removed]",
            "text/plain": [
              "<Figure size 432x288 with 1 Axes>"
            ]
          },
          "metadata": {
            "needs_background": "light"
          },
          "output_type": "display_data"
        }
      ],
      "source": [
        "plt.scatter(data_set_x_orig[:,0], data_set_y_orig, c=data_set_y_orig, cmap='rainbow')\n",
        "plt.title('Scatter Plot of Logistic Regression')\n",
        "plt.show()"
      ]
    },
    {
      "cell_type": "code",
      "execution_count": null,
      "metadata": {
        "id": "NV9yzBqu0gyV"
      },
      "outputs": [],
      "source": [
        "# Split the dataset into training and test dataset\n",
        "x_train, x_test, y_train, y_test = train_test_split(data_set_x_orig, data_set_y_orig, train_size=0.8, test_size=0.2, random_state=1)"
      ]
    },
    {
      "cell_type": "code",
      "execution_count": null,
      "metadata": {
        "id": "sZHxlCrQ0gyW",
        "outputId": "77e39688-cfac-484f-f389-4effc63b6318"
      },
      "outputs": [
        {
          "data": {
            "text/plain": [
              "LogisticRegression()"
            ]
          },
          "execution_count": 6,
          "metadata": {},
          "output_type": "execute_result"
        }
      ],
      "source": [
        "# Create a Logistic Regression Object, perform Logistic Regression\n",
        "lr = LogisticRegression()\n",
        "lr.fit(x_train, y_train)"
      ]
    },
    {
      "cell_type": "code",
      "execution_count": null,
      "metadata": {
        "id": "BTHz02n00gyW",
        "outputId": "b2789c8a-383b-4737-bcaf-ff955cf9dbf3"
      },
      "outputs": [
        {
          "name": "stdout",
          "output_type": "stream",
          "text": [
            "[[3.2728385]]\n",
            "[1.02700938]\n"
          ]
        }
      ],
      "source": [
        "# Show to Coeficient and Intercept\n",
        "print(lr.coef_)\n",
        "print(lr.intercept_)"
      ]
    },
    {
      "cell_type": "code",
      "execution_count": null,
      "metadata": {
        "id": "5fiUK9QV0gyW",
        "outputId": "5200b91e-7554-4f2d-ad86-9e57000feb0c"
      },
      "outputs": [
        {
          "name": "stdout",
          "output_type": "stream",
          "text": [
            "[0 1 0 1 0 0 0 0 0 0 1 1 1 1 1 0 1 1 0 0]\n"
          ]
        }
      ],
      "source": [
        "# Perform prediction using the test dataset\n",
        "y_pred = lr.predict(x_test)\n",
        "print(y_pred)"
      ]
    },
    {
      "cell_type": "markdown",
      "metadata": {
        "id": "tzO32eb30gyX"
      },
      "source": []
    },
    {
      "cell_type": "code",
      "execution_count": null,
      "metadata": {
        "id": "72I6wpmv0gyX",
        "outputId": "9429e285-a863-48b3-b13b-7420e7e1176e"
      },
      "outputs": [
        {
          "data": {
            "text/plain": [
              "array([[11,  0],\n",
              "       [ 0,  9]])"
            ]
          },
          "execution_count": 9,
          "metadata": {},
          "output_type": "execute_result"
        }
      ],
      "source": [
        "# Show the Confusion Matrix\n",
        "confusion_matrix(y_test, y_pred)"
      ]
    },
    {
      "cell_type": "markdown",
      "metadata": {
        "id": "PADLK0NG0gyX"
      },
      "source": [
        "**Mathematical expression of the algorithm**:\n",
        "\n",
        "For $i^{(th)}$ example $x^{(i)}$:  \n",
        "\n",
        "$z^{(i)} = w^T x^{(i)} + b$  \n",
        "\n",
        "$\\hat{y}^{(i)} = a^{(i)} = sigmoid(z^{(i)})$  \n",
        "\n",
        "$\\mathcal{L}(a^{(i)}, y^{(i)}) =  - y^{(i)}  \\log(a^{(i)}) - (1-y^{(i)} )  \\log(1-a^{(i)})$  \n",
        "\n",
        "The cost is then computed by summing over all training examples:  \n",
        "\n",
        "$$J = \\frac{1}{m} \\sum_{i=1}^m \\mathcal{L}(a^{(i)}, y^{(i)})$$\n",
        "\n",
        "**Key steps**:\n",
        "In this exercise, you will carry out the following steps: \n",
        "    - Initialize the parameters of the model\n",
        "    - Learn the parameters for the model by minimizing the cost  \n",
        "    - Use the learned parameters to make predictions (on the test set)\n",
        "    - Analyse the results and conclude"
      ]
    },
    {
      "cell_type": "markdown",
      "metadata": {
        "id": "YMi5WI4C0gyX"
      },
      "source": [
        "Implement a function `propagate()` that computes the cost function and its gradient.\n",
        "\n",
        "**Hints**:\n",
        "\n",
        "Forward Propagation:\n",
        "- You get X\n",
        "- You compute $A = \\sigma(w^T X + b) = (a^{(1)}, a^{(2)}, ..., a^{(m-1)}, a^{(m)})$\n",
        "- You calculate the cost function: $J = -\\frac{1}{m}\\sum_{i=1}^{m}(y^{(i)}\\log(a^{(i)})+(1-y^{(i)})\\log(1-a^{(i)}))$\n",
        "\n",
        "Here are the two formulas you will be using: \n",
        "\n",
        "$$ \\frac{\\partial J}{\\partial w} = \\frac{1}{m}X(A-Y)^T\\tag{7}$$\n",
        "$$ \\frac{\\partial J}{\\partial b} = \\frac{1}{m} \\sum_{i=1}^m (a^{(i)}-y^{(i)})\\tag{8}$$"
      ]
    },
    {
      "cell_type": "code",
      "execution_count": null,
      "metadata": {
        "id": "PQy-IFB-0gyY"
      },
      "outputs": [],
      "source": []
    },
    {
      "cell_type": "markdown",
      "metadata": {
        "id": "MLyyTCcg0gyY"
      },
      "source": [
        "Write down the optimization function. The goal is to learn $w$ and $b$ by minimizing the cost function $J$. For a parameter $\\theta$, the update rule is $ \\theta = \\theta - \\alpha \\text{ } d\\theta$, where $\\alpha$ is the learning rate."
      ]
    },
    {
      "cell_type": "markdown",
      "metadata": {
        "id": "fVu9P7FV0gyY"
      },
      "source": []
    }
  ],
  "metadata": {
    "interpreter": {
      "hash": "aee8b7b246df8f9039afb4144a1f6fd8d2ca17a180786b69acc140d282b71a49"
    },
    "kernelspec": {
      "display_name": "Python 3.7.9 64-bit",
      "language": "python",
      "name": "python3"
    },
    "language_info": {
      "codemirror_mode": {
        "name": "ipython",
        "version": 3
      },
      "file_extension": ".py",
      "mimetype": "text/x-python",
      "name": "python",
      "nbconvert_exporter": "python",
      "pygments_lexer": "ipython3",
      "version": "3.7.9"
    },
    "orig_nbformat": 4,
    "colab": {
      "provenance": []
    }
  },
  "nbformat": 4,
  "nbformat_minor": 0
}