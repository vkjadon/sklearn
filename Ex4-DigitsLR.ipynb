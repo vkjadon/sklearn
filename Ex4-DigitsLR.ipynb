{
  "nbformat": 4,
  "nbformat_minor": 0,
  "metadata": {
    "colab": {
      "provenance": [],
      "authorship_tag": "ABX9TyOX51h757sffeXCj3u7F6jP",
      "include_colab_link": true
    },
    "kernelspec": {
      "name": "python3",
      "display_name": "Python 3"
    },
    "language_info": {
      "name": "python"
    }
  },
  "cells": [
    {
      "cell_type": "markdown",
      "metadata": {
        "id": "view-in-github",
        "colab_type": "text"
      },
      "source": [
        "<a href=\"https://colab.research.google.com/github/vkjadon/sklearn/blob/main/Ex4-DigitsLR.ipynb\" target=\"_parent\"><img src=\"https://colab.research.google.com/assets/colab-badge.svg\" alt=\"Open In Colab\"/></a>"
      ]
    },
    {
      "cell_type": "markdown",
      "source": [
        "https://github.com/vkjadon/AI-ipynb/blob/master/10LogisticRegression.ipynb"
      ],
      "metadata": {
        "id": "s9Lvlnpj1r0I"
      }
    },
    {
      "cell_type": "code",
      "source": [
        "import numpy as np\n",
        "from sklearn import datasets, metrics\n",
        "from sklearn.model_selection import train_test_split\n",
        "import matplotlib.pyplot as plt"
      ],
      "metadata": {
        "id": "jCk8LqkjpL4T"
      },
      "execution_count": 1,
      "outputs": []
    },
    {
      "cell_type": "markdown",
      "source": [
        "https://scikit-learn.org/stable/modules/generated/sklearn.datasets.load_digits.html"
      ],
      "metadata": {
        "id": "RsIqRhjcpHNB"
      }
    },
    {
      "cell_type": "code",
      "source": [
        "# The digits dataset\n",
        "digits = datasets.load_digits()\n",
        "print(digits.feature_names)\n",
        "n_samples = len(digits.images)\n",
        "data = digits.images.reshape((n_samples, -1))"
      ],
      "metadata": {
        "id": "mjix2S4LpOqW"
      },
      "execution_count": null,
      "outputs": []
    },
    {
      "cell_type": "code",
      "source": [
        "# Split into train and test subsets (50% each)\n",
        "XA, XB, yA, yB = train_test_split(data, digits.target, test_size=0.2)\n",
        "print(XA.shape)"
      ],
      "metadata": {
        "id": "o9H6AWYjpQzd",
        "outputId": "76a323f7-7046-47d1-eccb-cc4feaa1c458",
        "colab": {
          "base_uri": "https://localhost:8080/"
        }
      },
      "execution_count": 3,
      "outputs": [
        {
          "output_type": "stream",
          "name": "stdout",
          "text": [
            "(1437, 64)\n"
          ]
        }
      ]
    },
    {
      "cell_type": "code",
      "source": [
        "# Logistic Regression\n",
        "from sklearn.linear_model import LogisticRegression\n",
        "lr = LogisticRegression(solver='lbfgs',max_iter=5000)\n",
        "lr.fit(XA,yA)"
      ],
      "metadata": {
        "id": "DMftpO2ppS6G",
        "colab": {
          "base_uri": "https://localhost:8080/"
        },
        "outputId": "9151401a-e503-4a5c-9c6d-78790b027893"
      },
      "execution_count": null,
      "outputs": [
        {
          "output_type": "execute_result",
          "data": {
            "text/plain": [
              "LogisticRegression(max_iter=5000)"
            ]
          },
          "metadata": {},
          "execution_count": 8
        }
      ]
    },
    {
      "cell_type": "code",
      "source": [
        "n = np.random.randint(int(n_samples/2),n_samples)\n",
        "Xt = digits.data[n:n+1]\n",
        "plt.imshow(digits.images[n], cmap=plt.cm.gray_r, interpolation='nearest')\n",
        "plt.show()\n",
        "yt = lr.predict(Xt)\n",
        "print('Predicts: ' + str(yt[0]) + ' Label: ' + str(digits.target[n:n+1][0]))"
      ],
      "metadata": {
        "id": "g6I9De9Or6Hz",
        "outputId": "83294670-1507-44d7-c710-2de1c36432fd",
        "colab": {
          "base_uri": "https://localhost:8080/",
          "height": 283
        }
      },
      "execution_count": null,
      "outputs": [
        {
          "output_type": "display_data",
          "data": {
            "text/plain": [
              "<Figure size 432x288 with 1 Axes>"
            ],
            "image/png": "[encoded data removed]"
          },
          "metadata": {
            "needs_background": "light"
          }
        },
        {
          "output_type": "stream",
          "name": "stdout",
          "text": [
            "Predicts: 0 Label: 0\n"
          ]
        }
      ]
    },
    {
      "cell_type": "code",
      "source": [
        "from sklearn.datasets import make_classification"
      ],
      "metadata": {
        "id": "2gfVR7pu3QCc"
      },
      "execution_count": null,
      "outputs": []
    },
    {
      "cell_type": "code",
      "source": [
        "# Generate dataset for Logistic Regression\n",
        "dataset_X_orig, dataset_y_orig = make_classification(n_samples=10000,n_features=1, n_informative=1, n_redundant=0,n_classes=2,\n",
        "    n_clusters_per_class=1,)\n",
        "#print(dataset_X_orig.shape)\n",
        "#print(dataset_x_orig[:,0])"
      ],
      "metadata": {
        "id": "o7oxMFj83AsC"
      },
      "execution_count": null,
      "outputs": []
    },
    {
      "cell_type": "code",
      "source": [
        "plt.scatter(dataset_X_orig[:,0], dataset_y_orig, c=dataset_y_orig, cmap='rainbow')\n",
        "plt.title('Scatter Plot of Logistic Regression Data')\n",
        "plt.show()"
      ],
      "metadata": {
        "colab": {
          "base_uri": "https://localhost:8080/",
          "height": 281
        },
        "id": "0zxPXLSz3Tze",
        "outputId": "d6a6fc51-70ad-4905-bff1-e2f761bb59b1"
      },
      "execution_count": null,
      "outputs": [
        {
          "output_type": "display_data",
          "data": {
            "text/plain": [
              "<Figure size 432x288 with 1 Axes>"
            ],
            "image/png": "[encoded data removed]"
          },
          "metadata": {
            "needs_background": "light"
          }
        }
      ]
    },
    {
      "cell_type": "code",
      "source": [
        "# Split the dataset into training and test dataset\n",
        "X_train, X_test, y_train, y_test = train_test_split(dataset_X_orig, dataset_y_orig, train_size=0.8, test_size=0.2, random_state=1)"
      ],
      "metadata": {
        "id": "HIg1o-8c3dt2"
      },
      "execution_count": null,
      "outputs": []
    },
    {
      "cell_type": "code",
      "source": [
        "m_train=X_train.shape[0]\n",
        "X_train=X_train.T\n",
        "y_train=y_train.reshape(y_train.shape[0],1).T\n",
        "print(y_train.shape)\n",
        "m_test=X_test.shape[0]\n",
        "X_test=X_test.T\n",
        "y_test=y_test.reshape(y_test.shape[0],1).T"
      ],
      "metadata": {
        "colab": {
          "base_uri": "https://localhost:8080/"
        },
        "id": "w0measdN3nvg",
        "outputId": "5f7062c2-64dc-420f-f5fd-ec2d8ad98ca6"
      },
      "execution_count": null,
      "outputs": [
        {
          "output_type": "stream",
          "name": "stdout",
          "text": [
            "(1, 8000)\n"
          ]
        }
      ]
    }
  ]
}