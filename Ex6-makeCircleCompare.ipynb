{
  "nbformat": 4,
  "nbformat_minor": 0,
  "metadata": {
    "colab": {
      "provenance": [],
      "authorship_tag": "ABX9TyPIT59znhX47SFgJW0B8ble",
      "include_colab_link": true
    },
    "kernelspec": {
      "name": "python3",
      "display_name": "Python 3"
    },
    "language_info": {
      "name": "python"
    }
  },
  "cells": [
    {
      "cell_type": "markdown",
      "metadata": {
        "id": "view-in-github",
        "colab_type": "text"
      },
      "source": [
        "<a href=\"https://colab.research.google.com/github/vkjadon/sklearn/blob/main/Ex6-makeCircleCompare.ipynb\" target=\"_parent\"><img src=\"https://colab.research.google.com/assets/colab-badge.svg\" alt=\"Open In Colab\"/></a>"
      ]
    },
    {
      "cell_type": "code",
      "source": [
        "from sklearn import datasets, metrics\n",
        "from sklearn.model_selection import train_test_split\n",
        "import matplotlib.pyplot as plt\n",
        "import numpy as np\n",
        "import time"
      ],
      "metadata": {
        "id": "jCk8LqkjpL4T"
      },
      "execution_count": 1,
      "outputs": []
    },
    {
      "cell_type": "code",
      "source": [
        "data, target = datasets.make_circles(n_samples=1000, random_state=100, noise=0.02)\n",
        "# Split into train and test subsets\n",
        "X_train, X_test, y_train, y_test = train_test_split(data, target, test_size=0.2, shuffle=False)\n",
        "print(X_train.shape)"
      ],
      "metadata": {
        "id": "mjix2S4LpOqW",
        "colab": {
          "base_uri": "https://localhost:8080/"
        },
        "outputId": "daee8f22-fb63-4f46-a544-2b09132f9ae3"
      },
      "execution_count": 3,
      "outputs": [
        {
          "output_type": "stream",
          "name": "stdout",
          "text": [
            "(800, 2)\n"
          ]
        }
      ]
    },
    {
      "cell_type": "code",
      "source": [
        "# Logistic Regression\n",
        "from sklearn.linear_model import LogisticRegression\n",
        "lr = LogisticRegression(solver='lbfgs',multi_class='auto',max_iter=2000)\n",
        "lr.fit(X_train,y_train)"
      ],
      "metadata": {
        "id": "DMftpO2ppS6G",
        "outputId": "361c6b02-c4ff-4b3e-9d28-42e5c60b76b8",
        "colab": {
          "base_uri": "https://localhost:8080/"
        }
      },
      "execution_count": 4,
      "outputs": [
        {
          "output_type": "execute_result",
          "data": {
            "text/plain": [
              "LogisticRegression(max_iter=2000)"
            ]
          },
          "metadata": {},
          "execution_count": 4
        }
      ]
    },
    {
      "cell_type": "code",
      "source": [
        "# K-Nearest Neighbors\n",
        "from sklearn.neighbors import KNeighborsClassifier\n",
        "knn = KNeighborsClassifier(n_neighbors=10)\n",
        "knn.fit(X_train,y_train)"
      ],
      "metadata": {
        "id": "LN0t-ISNpgZD",
        "outputId": "1b588c4c-0ac4-40c0-cdc0-3ed52558e51f",
        "colab": {
          "base_uri": "https://localhost:8080/"
        }
      },
      "execution_count": 5,
      "outputs": [
        {
          "output_type": "execute_result",
          "data": {
            "text/plain": [
              "KNeighborsClassifier(n_neighbors=10)"
            ]
          },
          "metadata": {},
          "execution_count": 5
        }
      ]
    },
    {
      "cell_type": "code",
      "source": [
        "# Support Vector Classifier\n",
        "from sklearn.svm import SVC\n",
        "svm = SVC(gamma='scale', C=1.0, random_state=101)"
      ],
      "metadata": {
        "id": "Hv2J1Mhgpopy"
      },
      "execution_count": 6,
      "outputs": []
    },
    {
      "cell_type": "code",
      "source": [
        "# Decision Tree\n",
        "from sklearn.tree import DecisionTreeClassifier\n",
        "dtree = DecisionTreeClassifier(max_depth=10,random_state=101, max_features=None,min_samples_leaf=5)"
      ],
      "metadata": {
        "id": "3ZDGyT0Spi1I"
      },
      "execution_count": 7,
      "outputs": []
    },
    {
      "cell_type": "code",
      "source": [
        "# Random Forest\n",
        "from sklearn.ensemble import RandomForestClassifier\n",
        "rfm = RandomForestClassifier(n_estimators=70,oob_score=True,n_jobs=1, random_state=101,max_features=None,min_samples_leaf=3)"
      ],
      "metadata": {
        "id": "dN7nojzTpmt5"
      },
      "execution_count": 8,
      "outputs": []
    },
    {
      "cell_type": "code",
      "source": [
        "# Naïve Bayes\n",
        "from sklearn.naive_bayes import GaussianNB\n",
        "nb = GaussianNB()"
      ],
      "metadata": {
        "id": "RPIVh_vLpV9R"
      },
      "execution_count": 9,
      "outputs": []
    },
    {
      "cell_type": "code",
      "source": [
        "# Stochastic Gradient Descent\n",
        "from sklearn.linear_model import SGDClassifier\n",
        "sgd = SGDClassifier(loss='modified_huber', shuffle=True,random_state=101, tol=1e-3,max_iter=1000)"
      ],
      "metadata": {
        "id": "KzsnnQM5peE8"
      },
      "execution_count": 10,
      "outputs": []
    },
    {
      "cell_type": "code",
      "source": [
        "# Neural Network\n",
        "from sklearn.neural_network import MLPClassifier\n",
        "nn = MLPClassifier(solver='lbfgs',alpha=1e-5,max_iter=200,activation='relu',hidden_layer_sizes=(10,30,10),random_state=1, shuffle=True)"
      ],
      "metadata": {
        "id": "5UO5UoLHpqvv"
      },
      "execution_count": 11,
      "outputs": []
    },
    {
      "cell_type": "code",
      "source": [
        "# classification methods\n",
        "m = [nb,lr,sgd,knn,dtree,rfm,svm,nn]\n",
        "s = ['nb','lr','sgd','knn','dt','rfm','svm','nn']"
      ],
      "metadata": {
        "id": "e6wHB9wYptRY"
      },
      "execution_count": 12,
      "outputs": []
    },
    {
      "cell_type": "code",
      "source": [
        "# fit classifiers\n",
        "print('Train Classifiers')\n",
        "for i,x in enumerate(m):\n",
        "    st = time.time()\n",
        "    x.fit(X_train,y_train)\n",
        "    tf = str(round(time.time()-st,5))\n",
        "    print(s[i] + ' time: ' + tf)"
      ],
      "metadata": {
        "colab": {
          "base_uri": "https://localhost:8080/"
        },
        "id": "lUJv7vpvp51Z",
        "outputId": "22e97548-496d-47dc-fc8c-28e180182743"
      },
      "execution_count": 13,
      "outputs": [
        {
          "output_type": "stream",
          "name": "stdout",
          "text": [
            "Train Classifiers\n",
            "nb time: 0.00174\n",
            "lr time: 0.0072\n",
            "sgd time: 0.00784\n",
            "knn time: 0.00131\n",
            "dt time: 0.00282\n",
            "rfm time: 0.17961\n",
            "svm time: 0.01505\n",
            "nn time: 0.17066\n"
          ]
        }
      ]
    },
    {
      "cell_type": "code",
      "source": [
        "# test on random number in second half of data\n",
        "n = np.random.randint(int(n_samples/2),n_samples)\n",
        "Xt = digits.data[n:n+1]"
      ],
      "metadata": {
        "id": "asZq301cp-P1"
      },
      "execution_count": null,
      "outputs": []
    },
    {
      "cell_type": "code",
      "execution_count": null,
      "metadata": {
        "colab": {
          "base_uri": "https://localhost:8080/",
          "height": 444
        },
        "id": "jisPLYCwpC3K",
        "outputId": "7ef9b91a-6366-4f7e-b5d2-7bcf7733959a"
      },
      "outputs": [
        {
          "output_type": "stream",
          "name": "stdout",
          "text": [
            "Test Classifiers\n",
            "nb predicts: 5 time: 0.00359\n",
            "lr predicts: 5 time: 0.00032\n",
            "sgd predicts: 5 time: 0.00024\n",
            "knn predicts: 5 time: 0.00633\n",
            "dt predicts: 5 time: 0.00049\n",
            "rfm predicts: 5 time: 0.00981\n",
            "svm predicts: 5 time: 0.00049\n",
            "nn predicts: 5 time: 0.00032\n",
            "Label: 5\n"
          ]
        },
        {
          "output_type": "display_data",
          "data": {
            "text/plain": [
              "<Figure size 432x288 with 1 Axes>"
            ],
            "image/png": "[encoded data removed]"
          },
          "metadata": {
            "needs_background": "light"
          }
        }
      ],
      "source": [
        "# test classifiers\n",
        "print('Test Classifiers')\n",
        "for i,x in enumerate(m):\n",
        "    st = time.time()\n",
        "    yt = x.predict(Xt)\n",
        "    tf = str(round(time.time()-st,5))\n",
        "    print(s[i] + ' predicts: ' + str(yt[0]) + ' time: ' + tf)\n",
        "print('Label: ' + str(digits.target[n:n+1][0]))\n",
        "\n",
        "plt.imshow(digits.images[n], cmap=plt.cm.gray_r, interpolation='nearest')\n",
        "plt.show()\n"
      ]
    }
  ]
}