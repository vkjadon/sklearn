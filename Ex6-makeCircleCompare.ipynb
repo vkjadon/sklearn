{
  "nbformat": 4,
  "nbformat_minor": 0,
  "metadata": {
    "colab": {
      "provenance": [],
      "authorship_tag": "ABX9TyPw7sL7Naa01TWH9eg9XhJm",
      "include_colab_link": true
    },
    "kernelspec": {
      "name": "python3",
      "display_name": "Python 3"
    },
    "language_info": {
      "name": "python"
    }
  },
  "cells": [
    {
      "cell_type": "markdown",
      "metadata": {
        "id": "view-in-github",
        "colab_type": "text"
      },
      "source": [
        "<a href=\"https://colab.research.google.com/github/vkjadon/sklearn/blob/main/Ex6-makeCircleCompare.ipynb\" target=\"_parent\"><img src=\"https://colab.research.google.com/assets/colab-badge.svg\" alt=\"Open In Colab\"/></a>"
      ]
    },
    {
      "cell_type": "code",
      "source": [
        "from sklearn import datasets, metrics\n",
        "from sklearn.model_selection import train_test_split\n",
        "import matplotlib.pyplot as plt\n",
        "import numpy as np\n",
        "import time"
      ],
      "metadata": {
        "id": "jCk8LqkjpL4T"
      },
      "execution_count": 1,
      "outputs": []
    },
    {
      "cell_type": "code",
      "source": [
        "data, target = datasets.make_circles(n_samples=1000, random_state=100, noise=0.02)\n",
        "# Split into train and test subsets\n",
        "X_train, X_test, y_train, y_test = train_test_split(data, target, test_size=0.2, shuffle=False)\n",
        "print(X_train.shape)"
      ],
      "metadata": {
        "id": "mjix2S4LpOqW",
        "colab": {
          "base_uri": "https://localhost:8080/"
        },
        "outputId": "daee8f22-fb63-4f46-a544-2b09132f9ae3"
      },
      "execution_count": 3,
      "outputs": [
        {
          "output_type": "stream",
          "name": "stdout",
          "text": [
            "(800, 2)\n"
          ]
        }
      ]
    },
    {
      "cell_type": "code",
      "source": [
        "# Logistic Regression\n",
        "from sklearn.linear_model import LogisticRegression\n",
        "lr = LogisticRegression(solver='lbfgs',multi_class='auto',max_iter=2000)\n",
        "lr.fit(X_train,y_train)"
      ],
      "metadata": {
        "id": "DMftpO2ppS6G",
        "outputId": "361c6b02-c4ff-4b3e-9d28-42e5c60b76b8",
        "colab": {
          "base_uri": "https://localhost:8080/"
        }
      },
      "execution_count": 4,
      "outputs": [
        {
          "output_type": "execute_result",
          "data": {
            "text/plain": [
              "LogisticRegression(max_iter=2000)"
            ]
          },
          "metadata": {},
          "execution_count": 4
        }
      ]
    },
    {
      "cell_type": "code",
      "source": [
        "# K-Nearest Neighbors\n",
        "from sklearn.neighbors import KNeighborsClassifier\n",
        "knn = KNeighborsClassifier(n_neighbors=10)\n",
        "knn.fit(X_train,y_train)"
      ],
      "metadata": {
        "id": "LN0t-ISNpgZD",
        "outputId": "1b588c4c-0ac4-40c0-cdc0-3ed52558e51f",
        "colab": {
          "base_uri": "https://localhost:8080/"
        }
      },
      "execution_count": 5,
      "outputs": [
        {
          "output_type": "execute_result",
          "data": {
            "text/plain": [
              "KNeighborsClassifier(n_neighbors=10)"
            ]
          },
          "metadata": {},
          "execution_count": 5
        }
      ]
    },
    {
      "cell_type": "code",
      "source": [
        "# Support Vector Classifier\n",
        "from sklearn.svm import SVC\n",
        "svm = SVC(gamma='scale', C=1.0, random_state=101)"
      ],
      "metadata": {
        "id": "Hv2J1Mhgpopy"
      },
      "execution_count": 6,
      "outputs": []
    },
    {
      "cell_type": "code",
      "source": [
        "# Decision Tree\n",
        "from sklearn.tree import DecisionTreeClassifier\n",
        "dtree = DecisionTreeClassifier(max_depth=10,random_state=101, max_features=None,min_samples_leaf=5)"
      ],
      "metadata": {
        "id": "3ZDGyT0Spi1I"
      },
      "execution_count": 7,
      "outputs": []
    },
    {
      "cell_type": "code",
      "source": [
        "# Random Forest\n",
        "from sklearn.ensemble import RandomForestClassifier\n",
        "rfm = RandomForestClassifier(n_estimators=70,oob_score=True,n_jobs=1, random_state=101,max_features=None,min_samples_leaf=3)"
      ],
      "metadata": {
        "id": "dN7nojzTpmt5"
      },
      "execution_count": 8,
      "outputs": []
    },
    {
      "cell_type": "code",
      "source": [
        "# Naïve Bayes\n",
        "from sklearn.naive_bayes import GaussianNB\n",
        "nb = GaussianNB()"
      ],
      "metadata": {
        "id": "RPIVh_vLpV9R"
      },
      "execution_count": 9,
      "outputs": []
    },
    {
      "cell_type": "code",
      "source": [
        "# Stochastic Gradient Descent\n",
        "from sklearn.linear_model import SGDClassifier\n",
        "sgd = SGDClassifier(loss='modified_huber', shuffle=True,random_state=101, tol=1e-3,max_iter=1000)"
      ],
      "metadata": {
        "id": "KzsnnQM5peE8"
      },
      "execution_count": 10,
      "outputs": []
    },
    {
      "cell_type": "code",
      "source": [
        "# Neural Network\n",
        "from sklearn.neural_network import MLPClassifier\n",
        "nn = MLPClassifier(solver='lbfgs',alpha=0.00001,max_iter=500,activation='relu',hidden_layer_sizes=(10,20, 10),random_state=1, shuffle=True)"
      ],
      "metadata": {
        "id": "5UO5UoLHpqvv"
      },
      "execution_count": 89,
      "outputs": []
    },
    {
      "cell_type": "code",
      "source": [
        "# classification methods\n",
        "m = [nb,lr,sgd,knn,dtree,rfm,svm,nn]\n",
        "s = ['nb','lr','sgd','knn','dt','rfm','svm','nn']"
      ],
      "metadata": {
        "id": "e6wHB9wYptRY"
      },
      "execution_count": 90,
      "outputs": []
    },
    {
      "cell_type": "code",
      "source": [
        "# fit classifiers\n",
        "print('Train Classifiers')\n",
        "for i,x in enumerate(m):\n",
        "    st = time.time()\n",
        "    x.fit(X_train,y_train)\n",
        "    tf = str(round(time.time()-st,5))\n",
        "    score=x.score(X_test, y_test)\n",
        "    print(s[i] + ' time: ' + tf + ' Score ' + str(score) )"
      ],
      "metadata": {
        "colab": {
          "base_uri": "https://localhost:8080/"
        },
        "id": "lUJv7vpvp51Z",
        "outputId": "9d81633e-376c-479c-b199-795bf7a128a1"
      },
      "execution_count": 91,
      "outputs": [
        {
          "output_type": "stream",
          "name": "stdout",
          "text": [
            "Train Classifiers\n",
            "nb time: 0.00149 Score 0.865\n",
            "lr time: 0.00503 Score 0.45\n",
            "sgd time: 0.00625 Score 0.48\n",
            "knn time: 0.00075 Score 1.0\n",
            "dt time: 0.00282 Score 0.955\n",
            "rfm time: 0.17902 Score 0.955\n",
            "svm time: 0.00982 Score 1.0\n",
            "nn time: 0.25046 Score 0.995\n"
          ]
        }
      ]
    },
    {
      "cell_type": "code",
      "source": [
        "y_pred = nn.predict(X_test)\n",
        "print(' predicts: ' + str(y_pred[0]))\n",
        "print('Label: ' + str(y_test[0]))"
      ],
      "metadata": {
        "colab": {
          "base_uri": "https://localhost:8080/"
        },
        "id": "dGIDEhhd8Dpt",
        "outputId": "beb6c71f-4bff-4895-dedb-c3bb7c4b041d"
      },
      "execution_count": 92,
      "outputs": [
        {
          "output_type": "stream",
          "name": "stdout",
          "text": [
            " predicts: 1\n",
            "Label: 1\n"
          ]
        }
      ]
    },
    {
      "cell_type": "code",
      "source": [
        "def plot_decision_boundary(clf, X, Y, cmap='Paired_r'):\n",
        "    h = 0.02\n",
        "    x_min, x_max = X[:,0].min() - 10*h, X[:,0].max() + 10*h\n",
        "    y_min, y_max = X[:,1].min() - 10*h, X[:,1].max() + 10*h\n",
        "    xx, yy = np.meshgrid(np.arange(x_min, x_max, h),\n",
        "                         np.arange(y_min, y_max, h))\n",
        "    Z = clf.predict(np.c_[xx.ravel(), yy.ravel()])\n",
        "    Z = Z.reshape(xx.shape)\n",
        "\n",
        "    plt.figure(figsize=(5,5))\n",
        "    plt.contourf(xx, yy, Z, cmap=cmap, alpha=0.25)\n",
        "    plt.contour(xx, yy, Z, colors='k', linewidths=0.7)\n",
        "    plt.scatter(X[:,0], X[:,1], c=Y, cmap=cmap, edgecolors='k');"
      ],
      "metadata": {
        "id": "UEoHdQK9-qIO"
      },
      "execution_count": 93,
      "outputs": []
    },
    {
      "cell_type": "code",
      "source": [
        "plot_decision_boundary(knn, X_test, y_test)"
      ],
      "metadata": {
        "colab": {
          "base_uri": "https://localhost:8080/",
          "height": 320
        },
        "id": "TbyFtLIe-r7s",
        "outputId": "7d14eae1-b418-4d59-a2ef-9a8ba6451653"
      },
      "execution_count": 97,
      "outputs": [
        {
          "output_type": "display_data",
          "data": {
            "text/plain": [
              "<Figure size 360x360 with 1 Axes>"
            ],
            "image/png": "[encoded data removed]"
          },
          "metadata": {
            "needs_background": "light"
          }
        }
      ]
    }
  ]
}